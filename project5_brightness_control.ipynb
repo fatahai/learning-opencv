{
 "cells": [
  {
   "cell_type": "markdown",
   "id": "dc8e5285-821c-42e6-9dee-d05de8e36878",
   "metadata": {},
   "source": [
    "# **Brightness Control**"
   ]
  },
  {
   "cell_type": "code",
   "execution_count": 15,
   "id": "7f02bb6b-65ce-4c74-beb0-cf94312915d4",
   "metadata": {},
   "outputs": [],
   "source": [
    "import numpy as np\n",
    "import cv2"
   ]
  },
  {
   "cell_type": "code",
   "execution_count": 16,
   "id": "80cccbdd-bf30-44bc-be81-0c775af39a91",
   "metadata": {},
   "outputs": [],
   "source": [
    "img = cv2.imread(\"Input/car.jpg\")"
   ]
  },
  {
   "cell_type": "code",
   "execution_count": 17,
   "id": "85911ef8-5d97-4544-a755-0e0706fc9e12",
   "metadata": {},
   "outputs": [],
   "source": [
    "def nothing(x):\n",
    "    pass\n",
    "\n",
    "cv2.namedWindow(\"Brightness Control\")\n",
    "bright = cv2.createTrackbar(\"Brightness\", \"Brightness Control\",75, 255, nothing)\n",
    "value = np.ones_like(img, dtype=\"uint8\")\n",
    "\n",
    "while True:\n",
    "    bright = cv2.getTrackbarPos(\"Brightness\", \"Brightness Control\")\n",
    "    bar = bright - 127\n",
    "\n",
    "    if bar >= 0:\n",
    "        value = np.ones_like(img, dtype=\"uint8\")*bright\n",
    "        img_ctrl = cv2.add(img, value)\n",
    "\n",
    "    else:\n",
    "        bright = 127 - bright\n",
    "        value = np.ones_like(img, dtype=\"uint8\")*bright\n",
    "        img_ctrl = cv2.subtract(img, value)\n",
    "\n",
    "    cv2.imshow(\"Brightness Control\", img_ctrl)\n",
    "\n",
    "    if cv2.waitKey(1) == 27: # escape button\n",
    "        break\n",
    "\n",
    "cv2.destroyAllWindows()"
   ]
  }
 ],
 "metadata": {
  "kernelspec": {
   "display_name": "Python 3 (ipykernel)",
   "language": "python",
   "name": "python3"
  },
  "language_info": {
   "codemirror_mode": {
    "name": "ipython",
    "version": 3
   },
   "file_extension": ".py",
   "mimetype": "text/x-python",
   "name": "python",
   "nbconvert_exporter": "python",
   "pygments_lexer": "ipython3",
   "version": "3.12.4"
  }
 },
 "nbformat": 4,
 "nbformat_minor": 5
}
