{
 "cells": [
  {
   "cell_type": "markdown",
   "id": "64c6fcc1-74d4-420a-bd77-1ab68851dccb",
   "metadata": {},
   "source": [
    "# **Image Transformation**"
   ]
  },
  {
   "cell_type": "code",
   "execution_count": 1,
   "id": "be98ca05-5c7a-429c-9aa3-f015bb93f743",
   "metadata": {},
   "outputs": [],
   "source": [
    "import numpy as np\n",
    "import cv2"
   ]
  },
  {
   "cell_type": "code",
   "execution_count": 2,
   "id": "fe8bd6a8-8d49-4b97-8a33-1df6a098030c",
   "metadata": {},
   "outputs": [],
   "source": [
    "img = cv2.imread(\"Input/flemingo.jpg\")"
   ]
  },
  {
   "cell_type": "code",
   "execution_count": 3,
   "id": "4a2367cd-deb6-4acc-aa7b-c9d56055e9ce",
   "metadata": {},
   "outputs": [],
   "source": [
    "# Display function\n",
    "def display(winname, img):\n",
    "    cv2.imshow(winname, img)\n",
    "    cv2.waitKey(0)\n",
    "    cv2.destroyAllWindows()"
   ]
  },
  {
   "cell_type": "code",
   "execution_count": 4,
   "id": "c7a69f36-3615-4feb-aacb-9b659c570215",
   "metadata": {},
   "outputs": [],
   "source": [
    "display(\"flemingo\", img)"
   ]
  },
  {
   "cell_type": "markdown",
   "id": "72c648a5-051c-4b18-a015-52766f7423b3",
   "metadata": {},
   "source": [
    "## Translation or Shifting"
   ]
  },
  {
   "cell_type": "code",
   "execution_count": 5,
   "id": "1ec6e6b4-e8b6-4534-8a2b-d038fd4770f3",
   "metadata": {},
   "outputs": [
    {
     "name": "stdout",
     "output_type": "stream",
     "text": [
      "[[  1.   0. 100.]\n",
      " [  0.   1. 150.]]\n"
     ]
    }
   ],
   "source": [
    "tx = 100 # shift right side\n",
    "ty = 150 # shift downward\n",
    "M = np.float32([[1, 0, tx], \n",
    "                [0, 1, ty]])\n",
    "print(M)"
   ]
  },
  {
   "cell_type": "code",
   "execution_count": 6,
   "id": "b6cb2e27-f331-4970-a90e-53e4c6fe7d34",
   "metadata": {},
   "outputs": [],
   "source": [
    "shifted_img = cv2.warpAffine(img, M, (img.shape[1], img.shape[0]))\n",
    "\n",
    "# img.shape[1] : image width (x)\n",
    "# img.shape[0] : image height (y)\n",
    "# remember : img.shape => (height, width, channel)"
   ]
  },
  {
   "cell_type": "code",
   "execution_count": 7,
   "id": "c0f17346-1dd1-4ae7-9e62-a840962b0bb9",
   "metadata": {},
   "outputs": [],
   "source": [
    "display(\"shifted image\", shifted_img)"
   ]
  },
  {
   "cell_type": "code",
   "execution_count": 8,
   "id": "03c21633-66c7-4615-a0c9-e1a37cc83775",
   "metadata": {},
   "outputs": [],
   "source": [
    "# Create translation function and display it\n",
    "def translation(img, tx, ty):\n",
    "    M = np.float32([[1, 0, tx], \n",
    "                    [0, 1, ty]])\n",
    "    shifted_img = cv2.warpAffine(img, M, (img.shape[1], img.shape[0]))\n",
    "    display(\"shifted image\", shifted_img)\n",
    "    cv2.imwrite(\"Output/shifted image.png\", shifted_img)"
   ]
  },
  {
   "cell_type": "code",
   "execution_count": 9,
   "id": "40a5c416-6ebe-4486-a0d8-c15d21ff7aaf",
   "metadata": {},
   "outputs": [],
   "source": [
    "translation(img, -50, -100)"
   ]
  },
  {
   "cell_type": "markdown",
   "id": "eebb40b2-bf91-44e2-9d74-0f627f2eac1f",
   "metadata": {},
   "source": [
    "## Rotation"
   ]
  },
  {
   "cell_type": "code",
   "execution_count": 11,
   "id": "4657df61-b31c-421d-9c38-4d66abe7b8bf",
   "metadata": {},
   "outputs": [],
   "source": [
    "# Determine center point for rotation\n",
    "center = (img.shape[1]//2, img.shape[0]//2)"
   ]
  },
  {
   "cell_type": "code",
   "execution_count": 12,
   "id": "e29571f4-5341-403a-a671-01ccf8e67bf9",
   "metadata": {},
   "outputs": [
    {
     "data": {
      "text/plain": [
       "array([[   0.5       ,    0.8660254 , -117.12812921],\n",
       "       [  -0.8660254 ,    0.5       ,  437.12812921]])"
      ]
     },
     "execution_count": 12,
     "metadata": {},
     "output_type": "execute_result"
    }
   ],
   "source": [
    "M = cv2.getRotationMatrix2D(center, 60, 1) # (center point, degree rotation, scale)\n",
    "M"
   ]
  },
  {
   "cell_type": "code",
   "execution_count": 13,
   "id": "9ce378dd-17f2-4728-abc4-c8183da7c720",
   "metadata": {},
   "outputs": [],
   "source": [
    "rotate_60 = cv2.warpAffine(img, M, (img.shape[1], img.shape[0]))"
   ]
  },
  {
   "cell_type": "code",
   "execution_count": 14,
   "id": "bafdc7f2-c676-4ce0-a88e-09c1f31136d8",
   "metadata": {},
   "outputs": [],
   "source": [
    "display(\"rotate 60 degree\", rotate_60)"
   ]
  },
  {
   "cell_type": "code",
   "execution_count": 29,
   "id": "b8b36bd5-822d-44bd-b33f-d8174d7ef274",
   "metadata": {},
   "outputs": [],
   "source": [
    "# Create rotation function\n",
    "def rotate(img, angle, scale):\n",
    "    center = (img.shape[1]//2, img.shape[0]//2)\n",
    "    M = cv2.getRotationMatrix2D(center, angle, scale)\n",
    "    rotate_img = cv2.warpAffine(img, M, (img.shape[1], img.shape[0]))\n",
    "    cv2.imwrite(\"Output/rotate image.png\", rotate_img)\n",
    "\n",
    "    display(f\"rotate image {angle} degree\", rotate_img)"
   ]
  },
  {
   "cell_type": "code",
   "execution_count": 30,
   "id": "7a0d285b-d9c3-4bd4-8e4c-d961274769be",
   "metadata": {},
   "outputs": [],
   "source": [
    "rotate(img, -15, 0.75)"
   ]
  },
  {
   "cell_type": "markdown",
   "id": "cc64cf01-2aad-4e22-b045-782de4f98add",
   "metadata": {},
   "source": [
    "## Resize"
   ]
  },
  {
   "cell_type": "code",
   "execution_count": 25,
   "id": "4e6386c6-3268-4d8f-b0d0-e7b82d04d454",
   "metadata": {},
   "outputs": [
    {
     "data": {
      "text/plain": [
       "(640, 640, 3)"
      ]
     },
     "execution_count": 25,
     "metadata": {},
     "output_type": "execute_result"
    }
   ],
   "source": [
    "img.shape"
   ]
  },
  {
   "cell_type": "code",
   "execution_count": 35,
   "id": "c8a0837c-5fa9-442e-bc47-e56b99aed65f",
   "metadata": {},
   "outputs": [],
   "source": [
    "img_resize = cv2.resize(img, (400,300), interpolation=cv2.INTER_AREA)"
   ]
  },
  {
   "cell_type": "code",
   "execution_count": 36,
   "id": "30d3e62a-d47b-4149-969b-fb18350f24db",
   "metadata": {},
   "outputs": [
    {
     "data": {
      "text/plain": [
       "(300, 400, 3)"
      ]
     },
     "execution_count": 36,
     "metadata": {},
     "output_type": "execute_result"
    }
   ],
   "source": [
    "img_resize.shape"
   ]
  },
  {
   "cell_type": "code",
   "execution_count": 37,
   "id": "3749fce7-4005-4b7c-823b-04ba4512ce9f",
   "metadata": {},
   "outputs": [],
   "source": [
    "cv2.imshow(\"original\", img)\n",
    "cv2.imshow(\"resize\", img_resize)\n",
    "cv2.waitKey(0)\n",
    "cv2.destroyAllWindows()"
   ]
  },
  {
   "cell_type": "code",
   "execution_count": 38,
   "id": "daf52f45-006d-4615-915c-8bb5877ea725",
   "metadata": {},
   "outputs": [
    {
     "data": {
      "text/plain": [
       "True"
      ]
     },
     "execution_count": 38,
     "metadata": {},
     "output_type": "execute_result"
    }
   ],
   "source": [
    "cv2.imwrite(\"Output/resize image.png\", img_resize)"
   ]
  },
  {
   "cell_type": "markdown",
   "id": "0bda0802-5687-486c-9782-3dddebd61931",
   "metadata": {},
   "source": [
    "## Flipping"
   ]
  },
  {
   "cell_type": "code",
   "execution_count": 41,
   "id": "40e1161a-fd44-4795-bd1d-394492a8403a",
   "metadata": {},
   "outputs": [],
   "source": [
    "flip_img_1 = cv2.flip(img, 1) # horizontal flip\n",
    "flip_img_min1 = cv2.flip(img, -1) # horizontal and vertical flip at the same time\n",
    "flip_img_0 = cv2.flip(img, 0) # vertical flip"
   ]
  },
  {
   "cell_type": "code",
   "execution_count": 42,
   "id": "9e8498a3-3c23-4847-903e-a1acb61c0dc0",
   "metadata": {},
   "outputs": [],
   "source": [
    "cv2.imshow(\"original\", img)\n",
    "cv2.imshow(\"horizontal flip\", flip_img_1)\n",
    "cv2.imshow(\"horizontal and vertical flip\", flip_img_min1)\n",
    "cv2.imshow(\"vertical flip\", flip_img_0)\n",
    "cv2.waitKey(0)\n",
    "cv2.destroyAllWindows()"
   ]
  },
  {
   "cell_type": "code",
   "execution_count": 44,
   "id": "0ff01d0f-0020-43f9-8265-9168f1b1ee98",
   "metadata": {},
   "outputs": [
    {
     "data": {
      "text/plain": [
       "True"
      ]
     },
     "execution_count": 44,
     "metadata": {},
     "output_type": "execute_result"
    }
   ],
   "source": [
    "cv2.imwrite(\"Output/flip image.png\", flip_img_min1)"
   ]
  },
  {
   "cell_type": "markdown",
   "id": "8e43a7b9-3fc5-4409-ae3c-a0673d4dab53",
   "metadata": {},
   "source": [
    "## Cropping"
   ]
  },
  {
   "cell_type": "code",
   "execution_count": 55,
   "id": "d7cf9fdc-1e08-49b4-a159-c53488827240",
   "metadata": {},
   "outputs": [],
   "source": [
    "crop = img[200:300, 100:500] # rows_pixel, cols_pixel"
   ]
  },
  {
   "cell_type": "code",
   "execution_count": 56,
   "id": "6951a709-fc2d-4dd0-b384-93547a098a08",
   "metadata": {},
   "outputs": [],
   "source": [
    "display(\"crop\", crop)"
   ]
  },
  {
   "cell_type": "code",
   "execution_count": 57,
   "id": "ab20fb24-ec4e-42e0-98ab-e31f8bc00f65",
   "metadata": {},
   "outputs": [
    {
     "data": {
      "text/plain": [
       "True"
      ]
     },
     "execution_count": 57,
     "metadata": {},
     "output_type": "execute_result"
    }
   ],
   "source": [
    "cv2.imwrite(\"Output/crop image.png\", crop)"
   ]
  }
 ],
 "metadata": {
  "kernelspec": {
   "display_name": "Python 3 (ipykernel)",
   "language": "python",
   "name": "python3"
  },
  "language_info": {
   "codemirror_mode": {
    "name": "ipython",
    "version": 3
   },
   "file_extension": ".py",
   "mimetype": "text/x-python",
   "name": "python",
   "nbconvert_exporter": "python",
   "pygments_lexer": "ipython3",
   "version": "3.12.4"
  }
 },
 "nbformat": 4,
 "nbformat_minor": 5
}
