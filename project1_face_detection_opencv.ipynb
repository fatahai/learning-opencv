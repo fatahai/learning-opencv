{
 "cells": [
  {
   "cell_type": "markdown",
   "id": "d9f1551b-f59f-4b38-9fc8-616b907ef3aa",
   "metadata": {},
   "source": [
    "# **Face Detection with OpenCV**"
   ]
  },
  {
   "cell_type": "code",
   "execution_count": 1,
   "id": "bd5a256c-8006-4573-b4fd-86e363313d91",
   "metadata": {},
   "outputs": [],
   "source": [
    "# Import dependencies\n",
    "import numpy as np\n",
    "import cv2"
   ]
  },
  {
   "cell_type": "code",
   "execution_count": 2,
   "id": "354954c6-2df2-4643-acf3-d00fb841c00b",
   "metadata": {},
   "outputs": [],
   "source": [
    "# Load image\n",
    "img = cv2.imread(\"Input/faces.jpg\")\n",
    "\n",
    "cv2.imshow(\"face\", img)\n",
    "cv2.waitKey(0)\n",
    "cv2.destroyAllWindows()"
   ]
  },
  {
   "cell_type": "code",
   "execution_count": 3,
   "id": "5b0a70f7-5169-4c38-b578-02064931bf61",
   "metadata": {},
   "outputs": [],
   "source": [
    "# Load Cascade Classifier\n",
    "face_cascade = cv2.CascadeClassifier(\"Input/haarcascade_frontalface_default.xml\")"
   ]
  },
  {
   "cell_type": "code",
   "execution_count": 50,
   "id": "b7aa319d-a70a-4d1e-b246-1cab8f9360af",
   "metadata": {},
   "outputs": [],
   "source": [
    "# Duplicate image\n",
    "image = img.copy()\n",
    "\n",
    "# Step-1: Convert image into grayscale\n",
    "gray = cv2.cvtColor(img, cv2.COLOR_BGR2GRAY)\n",
    "\n",
    "# Step-2: Apply grayscale image to cascade classifier\n",
    "box, detections = face_cascade.detectMultiScale2(gray, minNeighbors=50)\n",
    "\n",
    "# Step-3: Drawing bounding box\n",
    "for x, y, w, h in box:\n",
    "    cv2.rectangle(image, (x,y), (x+w, y+h), (0, 255, 0), 1)\n",
    "\n",
    "cv2.imshow(\"face detection\", image)\n",
    "cv2.waitKey(0)\n",
    "cv2.destroyAllWindows()"
   ]
  },
  {
   "cell_type": "code",
   "execution_count": 51,
   "id": "aeb1eb91-f7fb-44c1-900d-f997fb77ec5b",
   "metadata": {},
   "outputs": [
    {
     "data": {
      "text/plain": [
       "()"
      ]
     },
     "execution_count": 51,
     "metadata": {},
     "output_type": "execute_result"
    }
   ],
   "source": [
    "box"
   ]
  },
  {
   "cell_type": "code",
   "execution_count": 52,
   "id": "dc26de90-9574-4760-a6c8-b04d0fd1ce32",
   "metadata": {},
   "outputs": [
    {
     "data": {
      "text/plain": [
       "array([37, 10, 35])"
      ]
     },
     "execution_count": 52,
     "metadata": {},
     "output_type": "execute_result"
    }
   ],
   "source": [
    "detection"
   ]
  },
  {
   "cell_type": "code",
   "execution_count": 47,
   "id": "915ff524-69d4-4edb-b874-870fcde35ee8",
   "metadata": {},
   "outputs": [],
   "source": [
    "# Create face detection function\n",
    "def face_detection(img):\n",
    "    \n",
    "    # Duplicate image\n",
    "    image = img.copy()\n",
    "    # Step-1: Convert image into grayscale\n",
    "    gray = cv2.cvtColor(img, cv2.COLOR_BGR2GRAY)\n",
    "    # Step-2: Apply grayscale image to cascade classifier\n",
    "    box, detections = face_cascade.detectMultiScale2(gray, minNeighbors=50)\n",
    "        # Step-3: Drawing bounding box\n",
    "    for x, y, w, h in box:\n",
    "        \n",
    "        cv2.rectangle(image, (x,y), (x+w, y+h), (0, 255, 0), 1)\n",
    "\n",
    "    return image\n",
    "\n",
    "# Create display function\n",
    "def show_image(winname, image):\n",
    "    cv2.imshow(\"face detection\", image)\n",
    "    cv2.waitKey(0)\n",
    "    cv2.destroyAllWindows()"
   ]
  },
  {
   "cell_type": "code",
   "execution_count": 48,
   "id": "56b571d6-aa7e-4f89-abcf-10360f5d1688",
   "metadata": {},
   "outputs": [],
   "source": [
    "img_face_detect = face_detection(img)"
   ]
  },
  {
   "cell_type": "code",
   "execution_count": 49,
   "id": "9fd38527-d152-4a10-93bf-eb4beb78ec98",
   "metadata": {},
   "outputs": [],
   "source": [
    "show_image(\"face detection\", img_face_detect)"
   ]
  },
  {
   "cell_type": "code",
   "execution_count": 36,
   "id": "71851a78-73d8-4876-9e0c-dabcefc5ae52",
   "metadata": {},
   "outputs": [
    {
     "data": {
      "text/plain": [
       "True"
      ]
     },
     "execution_count": 36,
     "metadata": {},
     "output_type": "execute_result"
    }
   ],
   "source": [
    "cv2.imwrite(\"Output/face detection.png\", img_face_detect)"
   ]
  }
 ],
 "metadata": {
  "kernelspec": {
   "display_name": "Python 3 (ipykernel)",
   "language": "python",
   "name": "python3"
  },
  "language_info": {
   "codemirror_mode": {
    "name": "ipython",
    "version": 3
   },
   "file_extension": ".py",
   "mimetype": "text/x-python",
   "name": "python",
   "nbconvert_exporter": "python",
   "pygments_lexer": "ipython3",
   "version": "3.12.4"
  }
 },
 "nbformat": 4,
 "nbformat_minor": 5
}
