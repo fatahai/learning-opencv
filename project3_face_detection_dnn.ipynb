{
 "cells": [
  {
   "cell_type": "markdown",
   "id": "120d7a4c-3357-4cf1-b524-bfa9b06d8e8c",
   "metadata": {},
   "source": [
    "# **Face Detection with DNN**"
   ]
  },
  {
   "cell_type": "code",
   "execution_count": 1,
   "id": "85c85925-0b7a-450f-a53b-ceced7884298",
   "metadata": {},
   "outputs": [],
   "source": [
    "import numpy as np\n",
    "import cv2"
   ]
  },
  {
   "cell_type": "code",
   "execution_count": 2,
   "id": "ff79bf6d-b83f-4bfa-b4cb-4085917d7d04",
   "metadata": {},
   "outputs": [],
   "source": [
    "# Display the image\n",
    "img = cv2.imread(\"Input/faces.jpg\")\n",
    "\n",
    "cv2.imshow(\"face\", img)\n",
    "cv2.waitKey(0)\n",
    "cv2.destroyAllWindows()"
   ]
  },
  {
   "cell_type": "code",
   "execution_count": 3,
   "id": "07837269-1f42-45d9-a398-12b0000f4b8d",
   "metadata": {},
   "outputs": [],
   "source": [
    "# Load DNN model for face detection\n",
    "# The model is from Caffe\n",
    "face_detect_model = cv2.dnn.readNetFromCaffe(\"Input/models/deploy.prototxt.txt\", \n",
    "                                             \"Input/models/res10_300x300_ssd_iter_140000_fp16.caffemodel\")"
   ]
  },
  {
   "cell_type": "code",
   "execution_count": 4,
   "id": "6aa6e8bd-0d05-470d-9093-38427c281e92",
   "metadata": {},
   "outputs": [],
   "source": [
    "# Step-1: blob from image\n",
    "blob = cv2.dnn.blobFromImage(img, 1, (300, 300), (104, 177, 123), swapRB=True)\n",
    "\n",
    "# Step-2: set blob as input\n",
    "face_detect_model.setInput(blob)\n",
    "\n",
    "# Step-3: get the output\n",
    "detection = face_detect_model.forward()\n",
    "\n",
    "# Step-4: draw bounding box on top of face detected\n",
    "image = img.copy()\n",
    "h, w = image.shape[:2]\n",
    "for i in range(0, detection.shape[2]):\n",
    "    confidence = detection[0, 0, i, 2]\n",
    "    if confidence > 0.5:\n",
    "        # Diagonal points, index 3 - 6\n",
    "        box = detection[0, 0, i, 3:7]*np.array([w,h,w,h])\n",
    "        box = box.astype(\"int\")\n",
    "        start_point = (box[0], box[1])\n",
    "        end_point = (box[2], box[3])\n",
    "        # Draw rectangle\n",
    "        cv2.rectangle(image, start_point, end_point, (0, 255, 255), 1)\n",
    "        # Put text of confidence level\n",
    "        text = \"score : {:.0f}%\".format(confidence*100)\n",
    "        cv2.putText(image, text, start_point, cv2.FONT_HERSHEY_SIMPLEX, 1, (255, 255, 255), 2)\n",
    "\n",
    "cv2.imshow(\"face detection using dnn model\", image)\n",
    "cv2.waitKey(0)\n",
    "cv2.destroyAllWindows()"
   ]
  },
  {
   "cell_type": "code",
   "execution_count": 6,
   "id": "dd84a879-b87e-4eb2-b937-0b07b848393a",
   "metadata": {},
   "outputs": [
    {
     "data": {
      "text/plain": [
       "(1, 1, 200, 7)"
      ]
     },
     "execution_count": 6,
     "metadata": {},
     "output_type": "execute_result"
    }
   ],
   "source": [
    "detection.shape"
   ]
  },
  {
   "cell_type": "markdown",
   "id": "d3983a9e-8c57-4571-9587-899da8fea7f8",
   "metadata": {},
   "source": [
    "200 : faces detected\n",
    "\n",
    "7   : \n",
    "\n",
    "      0: image number\n",
    "\n",
    "      1: binary (0 or 1)\n",
    "      \n",
    "      2: confidence score (0 to 1)\n",
    "\n",
    "      3: start x\n",
    "\n",
    "      4: start y\n",
    "\n",
    "      5: end x\n",
    "\n",
    "      6: end y\n",
    "\n",
    "3 - 4 : bounding box"
   ]
  },
  {
   "cell_type": "code",
   "execution_count": 7,
   "id": "4b7a348c-dc50-4b29-9793-8efef708ba24",
   "metadata": {},
   "outputs": [
    {
     "data": {
      "text/plain": [
       "array([0.99828076, 0.93064046, 0.664914  , 0.11303056, 0.0990653 ,\n",
       "       0.09581406, 0.09539089, 0.09210994, 0.09148148, 0.09004118,\n",
       "       0.08952259, 0.08925451, 0.08845698, 0.08835823, 0.08817662,\n",
       "       0.08785022, 0.08761989, 0.08759253, 0.08733165, 0.08644598,\n",
       "       0.08633807, 0.08580607, 0.08571839, 0.08569968, 0.08565523,\n",
       "       0.08561651, 0.08543262, 0.08516434, 0.08498948, 0.0849054 ,\n",
       "       0.08472105, 0.08466661, 0.08451295, 0.08432195, 0.08402866,\n",
       "       0.08339363, 0.08325934, 0.08319435, 0.08300184, 0.08287057,\n",
       "       0.08281695, 0.0828022 , 0.08230657, 0.0820657 , 0.08128531,\n",
       "       0.08119456, 0.08109774, 0.08107881, 0.08065075, 0.08063322,\n",
       "       0.08060357, 0.08035444, 0.0802448 , 0.07988586, 0.07988258,\n",
       "       0.07974191, 0.07961009, 0.07956649, 0.07941596, 0.07937436,\n",
       "       0.0793445 , 0.07927639, 0.07913707, 0.07913006, 0.0790798 ,\n",
       "       0.07904801, 0.07900919, 0.07894584, 0.07892097, 0.07890497,\n",
       "       0.07888509, 0.0788686 , 0.07882136, 0.07861339, 0.07850467,\n",
       "       0.07844832, 0.07844094, 0.07843614, 0.07838354, 0.0783501 ,\n",
       "       0.07828934, 0.07815128, 0.078123  , 0.07810944, 0.        ,\n",
       "       0.        , 0.        , 0.        , 0.        , 0.        ,\n",
       "       0.        , 0.        , 0.        , 0.        , 0.        ,\n",
       "       0.        , 0.        , 0.        , 0.        , 0.        ,\n",
       "       0.        , 0.        , 0.        , 0.        , 0.        ,\n",
       "       0.        , 0.        , 0.        , 0.        , 0.        ,\n",
       "       0.        , 0.        , 0.        , 0.        , 0.        ,\n",
       "       0.        , 0.        , 0.        , 0.        , 0.        ,\n",
       "       0.        , 0.        , 0.        , 0.        , 0.        ,\n",
       "       0.        , 0.        , 0.        , 0.        , 0.        ,\n",
       "       0.        , 0.        , 0.        , 0.        , 0.        ,\n",
       "       0.        , 0.        , 0.        , 0.        , 0.        ,\n",
       "       0.        , 0.        , 0.        , 0.        , 0.        ,\n",
       "       0.        , 0.        , 0.        , 0.        , 0.        ,\n",
       "       0.        , 0.        , 0.        , 0.        , 0.        ,\n",
       "       0.        , 0.        , 0.        , 0.        , 0.        ,\n",
       "       0.        , 0.        , 0.        , 0.        , 0.        ,\n",
       "       0.        , 0.        , 0.        , 0.        , 0.        ,\n",
       "       0.        , 0.        , 0.        , 0.        , 0.        ,\n",
       "       0.        , 0.        , 0.        , 0.        , 0.        ,\n",
       "       0.        , 0.        , 0.        , 0.        , 0.        ,\n",
       "       0.        , 0.        , 0.        , 0.        , 0.        ,\n",
       "       0.        , 0.        , 0.        , 0.        , 0.        ,\n",
       "       0.        , 0.        , 0.        , 0.        , 0.        ],\n",
       "      dtype=float32)"
      ]
     },
     "execution_count": 7,
     "metadata": {},
     "output_type": "execute_result"
    }
   ],
   "source": [
    "detection[0, 0, :, 2]"
   ]
  },
  {
   "cell_type": "code",
   "execution_count": 5,
   "id": "3b9d2369-d0d5-4cbd-b714-42620d210562",
   "metadata": {},
   "outputs": [],
   "source": [
    "# Create function of face detection using DNN model\n",
    "def face_detection_dnn(img):\n",
    "    # Step-1: blob from image\n",
    "    blob = cv2.dnn.blobFromImage(img, 1, (300, 300), (104, 177, 123), swapRB=True)\n",
    "    \n",
    "    # Step-2: set blob as input\n",
    "    face_detect_model.setInput(blob)\n",
    "    \n",
    "    # Step-3: get the output\n",
    "    detection = face_detect_model.forward()\n",
    "    \n",
    "    # Step-4: draw bounding box on top of face detected\n",
    "    image = img.copy()\n",
    "    h, w = image.shape[:2]\n",
    "    for i in range(0, detection.shape[2]):\n",
    "        confidence = detection[0, 0, i, 2]\n",
    "        if confidence > 0.5:\n",
    "            # Diagonal points, index 3 - 6\n",
    "            box = detection[0, 0, i, 3:7]*np.array([w,h,w,h])\n",
    "            box = box.astype(\"int\")\n",
    "            start_point = (box[0], box[1])\n",
    "            end_point = (box[2], box[3])\n",
    "            # Draw rectangle\n",
    "            cv2.rectangle(image, start_point, end_point, (0, 255, 255), 1)\n",
    "            # Put text of confidence level\n",
    "            text = \"score : {:.0f}%\".format(confidence*100)\n",
    "            cv2.putText(image, text, start_point, cv2.FONT_HERSHEY_SIMPLEX, 1, (255, 255, 255), 2)\n",
    "    \n",
    "    return image"
   ]
  },
  {
   "cell_type": "code",
   "execution_count": 6,
   "id": "b9b40ae6-c2b6-4d1c-9255-bf5dbed76939",
   "metadata": {},
   "outputs": [],
   "source": [
    "# Create function to display result\n",
    "def display_result(image):\n",
    "    cv2.imshow(\"face detection using dnn model\", image)\n",
    "    cv2.waitKey(0)\n",
    "    cv2.destroyAllWindows()"
   ]
  },
  {
   "cell_type": "code",
   "execution_count": 7,
   "id": "a4f1e4ae-017f-4fb9-b111-8d9e36ad9c8e",
   "metadata": {},
   "outputs": [],
   "source": [
    "img_detect = face_detection_dnn(img)"
   ]
  },
  {
   "cell_type": "code",
   "execution_count": 8,
   "id": "89659628-076f-4740-b0ed-e9d01501e011",
   "metadata": {},
   "outputs": [],
   "source": [
    "display_result(img_detect)"
   ]
  },
  {
   "cell_type": "code",
   "execution_count": 9,
   "id": "6e940e2a-cfa8-46f7-bd28-006171f63224",
   "metadata": {},
   "outputs": [
    {
     "data": {
      "text/plain": [
       "True"
      ]
     },
     "execution_count": 9,
     "metadata": {},
     "output_type": "execute_result"
    }
   ],
   "source": [
    "cv2.imwrite(\"Output/face detection with dnn.png\", img_detect)"
   ]
  }
 ],
 "metadata": {
  "kernelspec": {
   "display_name": "Python 3 (ipykernel)",
   "language": "python",
   "name": "python3"
  },
  "language_info": {
   "codemirror_mode": {
    "name": "ipython",
    "version": 3
   },
   "file_extension": ".py",
   "mimetype": "text/x-python",
   "name": "python",
   "nbconvert_exporter": "python",
   "pygments_lexer": "ipython3",
   "version": "3.12.4"
  }
 },
 "nbformat": 4,
 "nbformat_minor": 5
}
