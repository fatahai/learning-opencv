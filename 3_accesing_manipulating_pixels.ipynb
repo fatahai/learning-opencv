{
 "cells": [
  {
   "cell_type": "markdown",
   "id": "8045b4c3-4cc2-4eed-b97d-067378da2c7d",
   "metadata": {},
   "source": [
    "# **Accessing and Manipulating Pixels**"
   ]
  },
  {
   "cell_type": "code",
   "execution_count": 2,
   "id": "b6cc12ac-0964-4c7e-9926-624cf2839e94",
   "metadata": {},
   "outputs": [],
   "source": [
    "# Import dependencies\n",
    "import numpy as np\n",
    "import cv2"
   ]
  },
  {
   "cell_type": "code",
   "execution_count": 4,
   "id": "6af88c6c-bdbb-44d5-a893-7a33d98b5a59",
   "metadata": {},
   "outputs": [],
   "source": [
    "# Create display function\n",
    "def display(windows_name, image):\n",
    "    cv2.imshow(windows_name, image)\n",
    "    cv2.waitKey(0)\n",
    "    cv2.destroyAllWindows()"
   ]
  },
  {
   "cell_type": "code",
   "execution_count": 5,
   "id": "8d77be74-db21-4a6c-bfa7-16314165f55f",
   "metadata": {},
   "outputs": [],
   "source": [
    "# Read image\n",
    "img = cv2.imread(\"Input/bird.jpg\")"
   ]
  },
  {
   "cell_type": "code",
   "execution_count": 6,
   "id": "f5a677d8-18ed-4eec-9758-5aabe9b5b12f",
   "metadata": {},
   "outputs": [],
   "source": [
    "# Display image\n",
    "display(\"bird\", img)"
   ]
  },
  {
   "cell_type": "code",
   "execution_count": 7,
   "id": "3b704af8-8dbf-4b3a-b97c-69e4fcc4c27b",
   "metadata": {},
   "outputs": [
    {
     "data": {
      "text/plain": [
       "(681, 640, 3)"
      ]
     },
     "execution_count": 7,
     "metadata": {},
     "output_type": "execute_result"
    }
   ],
   "source": [
    "# Image shape\n",
    "img.shape"
   ]
  },
  {
   "cell_type": "code",
   "execution_count": 8,
   "id": "3c4adbe3-a9b6-4061-ac63-274521011e6c",
   "metadata": {},
   "outputs": [],
   "source": [
    "# Access first 100 rows and 100 columns\n",
    "#             rows,  columns\n",
    "corners = img[0:100, 0:100]"
   ]
  },
  {
   "cell_type": "code",
   "execution_count": 9,
   "id": "6edd35f6-3072-4a46-80d9-cad4d2fe3ed7",
   "metadata": {},
   "outputs": [],
   "source": [
    "# Display corners\n",
    "display(\"corners\", corners)"
   ]
  },
  {
   "cell_type": "code",
   "execution_count": 11,
   "id": "504a7c28-9139-40de-9fc7-a7e464d62864",
   "metadata": {},
   "outputs": [],
   "source": [
    "cv2.imshow(\"original\", img)\n",
    "cv2.imshow(\"corners\", corners)\n",
    "cv2.waitKey(0)\n",
    "cv2.destroyAllWindows()"
   ]
  },
  {
   "cell_type": "code",
   "execution_count": 12,
   "id": "8595423b-8693-4de2-9511-5413c147ad8a",
   "metadata": {},
   "outputs": [],
   "source": [
    "# Change first 100 rows and 100 columns to green color\n",
    "green = (0, 255, 0)\n",
    "img[0:100, 0:100] = green"
   ]
  },
  {
   "cell_type": "code",
   "execution_count": 13,
   "id": "d418a01e-3090-45e1-b2c8-ed2ff2939f0a",
   "metadata": {},
   "outputs": [],
   "source": [
    "display(\"manipulate\", img)"
   ]
  }
 ],
 "metadata": {
  "kernelspec": {
   "display_name": "Python 3 (ipykernel)",
   "language": "python",
   "name": "python3"
  },
  "language_info": {
   "codemirror_mode": {
    "name": "ipython",
    "version": 3
   },
   "file_extension": ".py",
   "mimetype": "text/x-python",
   "name": "python",
   "nbconvert_exporter": "python",
   "pygments_lexer": "ipython3",
   "version": "3.12.4"
  }
 },
 "nbformat": 4,
 "nbformat_minor": 5
}
