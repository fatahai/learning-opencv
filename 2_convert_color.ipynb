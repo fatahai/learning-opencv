{
 "cells": [
  {
   "cell_type": "markdown",
   "id": "eb89f383-6ed5-4e7d-939a-dece1a38b4cd",
   "metadata": {},
   "source": [
    "# **Convert Color**"
   ]
  },
  {
   "cell_type": "code",
   "execution_count": 2,
   "id": "3818df9b-8910-4c66-8e3f-e60aabcc4563",
   "metadata": {},
   "outputs": [],
   "source": [
    "# Import dependencies\n",
    "import numpy as np\n",
    "import cv2"
   ]
  },
  {
   "cell_type": "code",
   "execution_count": 3,
   "id": "66ceeeec-d113-4a99-932e-787a463f9e71",
   "metadata": {},
   "outputs": [],
   "source": [
    "# Read image\n",
    "img = cv2.imread(\"Input/flemingo.jpg\")"
   ]
  },
  {
   "cell_type": "code",
   "execution_count": 8,
   "id": "4264eaee-cddc-4e1c-a690-4dce69910620",
   "metadata": {},
   "outputs": [
    {
     "data": {
      "text/plain": [
       "array([[[188, 163, 119],\n",
       "        [189, 164, 120],\n",
       "        [189, 164, 120],\n",
       "        ...,\n",
       "        [188, 163, 119],\n",
       "        [188, 163, 119],\n",
       "        [188, 163, 119]],\n",
       "\n",
       "       [[188, 163, 119],\n",
       "        [189, 164, 120],\n",
       "        [189, 164, 120],\n",
       "        ...,\n",
       "        [188, 163, 119],\n",
       "        [188, 163, 119],\n",
       "        [188, 163, 119]],\n",
       "\n",
       "       [[188, 163, 119],\n",
       "        [189, 164, 120],\n",
       "        [189, 164, 120],\n",
       "        ...,\n",
       "        [188, 163, 119],\n",
       "        [188, 163, 119],\n",
       "        [188, 163, 119]],\n",
       "\n",
       "       ...,\n",
       "\n",
       "       [[167, 134,  88],\n",
       "        [167, 134,  88],\n",
       "        [167, 134,  88],\n",
       "        ...,\n",
       "        [177, 144,  98],\n",
       "        [177, 144,  98],\n",
       "        [177, 144,  98]],\n",
       "\n",
       "       [[171, 141,  94],\n",
       "        [171, 141,  94],\n",
       "        [172, 142,  95],\n",
       "        ...,\n",
       "        [177, 144,  98],\n",
       "        [177, 144,  98],\n",
       "        [177, 144,  98]],\n",
       "\n",
       "       [[177, 147, 100],\n",
       "        [177, 147, 100],\n",
       "        [178, 148, 101],\n",
       "        ...,\n",
       "        [177, 144,  98],\n",
       "        [177, 144,  98],\n",
       "        [177, 144,  98]]], dtype=uint8)"
      ]
     },
     "execution_count": 8,
     "metadata": {},
     "output_type": "execute_result"
    }
   ],
   "source": [
    "# Display array of pixels\n",
    "# Each pixel has a value that represents the BGR\n",
    "# The BGR uses 8 bits, namely the value is 0 - 255\n",
    "img"
   ]
  },
  {
   "cell_type": "code",
   "execution_count": 9,
   "id": "d855aeac-24b7-43f2-867a-50664b273554",
   "metadata": {},
   "outputs": [
    {
     "data": {
      "text/plain": [
       "(640, 640, 3)"
      ]
     },
     "execution_count": 9,
     "metadata": {},
     "output_type": "execute_result"
    }
   ],
   "source": [
    "# Display image shape\n",
    "img.shape"
   ]
  },
  {
   "cell_type": "code",
   "execution_count": 10,
   "id": "5c2ab741-303b-4b4d-8d22-2c05102163cf",
   "metadata": {},
   "outputs": [],
   "source": [
    "# Split BGR composition\n",
    "b, g, r = cv2.split(img)"
   ]
  },
  {
   "cell_type": "code",
   "execution_count": 11,
   "id": "fe2f833e-ea3a-48c9-b95f-5b087ac1f0b1",
   "metadata": {},
   "outputs": [
    {
     "data": {
      "text/plain": [
       "array([[188, 189, 189, ..., 188, 188, 188],\n",
       "       [188, 189, 189, ..., 188, 188, 188],\n",
       "       [188, 189, 189, ..., 188, 188, 188],\n",
       "       ...,\n",
       "       [167, 167, 167, ..., 177, 177, 177],\n",
       "       [171, 171, 172, ..., 177, 177, 177],\n",
       "       [177, 177, 178, ..., 177, 177, 177]], dtype=uint8)"
      ]
     },
     "execution_count": 11,
     "metadata": {},
     "output_type": "execute_result"
    }
   ],
   "source": [
    "# Display array of blue composition\n",
    "b"
   ]
  },
  {
   "cell_type": "code",
   "execution_count": 13,
   "id": "b9e47aeb-20ba-4499-9661-8c0663188c8b",
   "metadata": {},
   "outputs": [],
   "source": [
    "# Show image in b, g, r mode\n",
    "cv2.imshow(\"color\", img)\n",
    "cv2.imshow(\"blue\", b)\n",
    "cv2.imshow(\"green\", g)\n",
    "cv2.imshow(\"red\", r)\n",
    "cv2.waitKey(0)\n",
    "cv2.destroyAllWindows()"
   ]
  },
  {
   "cell_type": "markdown",
   "id": "9deec585-d742-44e7-9f67-1d968e635c56",
   "metadata": {},
   "source": [
    "## **Color Converter**"
   ]
  },
  {
   "cell_type": "code",
   "execution_count": 15,
   "id": "7bd63aaf-a303-4417-a9dd-15346cfc416d",
   "metadata": {},
   "outputs": [],
   "source": [
    "# BGR to RGB\n",
    "img_rgb = cv2.cvtColor(img, cv2.COLOR_BGR2RGB)"
   ]
  },
  {
   "cell_type": "code",
   "execution_count": 17,
   "id": "7c5037d8-7921-461b-afc0-b108ad814a66",
   "metadata": {},
   "outputs": [],
   "source": [
    "# BGR to Grayscale\n",
    "img_gray = cv2.cvtColor(img, cv2.COLOR_BGR2GRAY)"
   ]
  },
  {
   "cell_type": "code",
   "execution_count": 19,
   "id": "9b44e526-88c2-42cf-980e-969dceecf5c0",
   "metadata": {},
   "outputs": [],
   "source": [
    "# Show images\n",
    "cv2.imshow(\"bgr\", img)\n",
    "cv2.imshow(\"rgb\", img_rgb)\n",
    "cv2.imshow(\"grayscale\", img_gray)\n",
    "cv2.waitKey(0)\n",
    "cv2.destroyAllWindows()"
   ]
  },
  {
   "cell_type": "code",
   "execution_count": 20,
   "id": "18f4d015-f177-4156-b3f2-4e5779c1172b",
   "metadata": {},
   "outputs": [
    {
     "data": {
      "text/plain": [
       "True"
      ]
     },
     "execution_count": 20,
     "metadata": {},
     "output_type": "execute_result"
    }
   ],
   "source": [
    "# Save images\n",
    "cv2.imwrite(\"Output/flemingo_rgb.png\", img_rgb)\n",
    "cv2.imwrite(\"Output/flemingo_gray.png\", img_gray)"
   ]
  }
 ],
 "metadata": {
  "kernelspec": {
   "display_name": "Python 3 (ipykernel)",
   "language": "python",
   "name": "python3"
  },
  "language_info": {
   "codemirror_mode": {
    "name": "ipython",
    "version": 3
   },
   "file_extension": ".py",
   "mimetype": "text/x-python",
   "name": "python",
   "nbconvert_exporter": "python",
   "pygments_lexer": "ipython3",
   "version": "3.12.4"
  }
 },
 "nbformat": 4,
 "nbformat_minor": 5
}
