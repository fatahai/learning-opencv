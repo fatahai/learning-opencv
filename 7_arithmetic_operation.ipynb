{
 "cells": [
  {
   "cell_type": "markdown",
   "id": "47261711-b590-4707-a19b-07eea3ec9b54",
   "metadata": {},
   "source": [
    "# **Arithmetic Operation in Image**"
   ]
  },
  {
   "cell_type": "code",
   "execution_count": 1,
   "id": "8cf16556-2666-44ef-92a5-295b76d40414",
   "metadata": {},
   "outputs": [],
   "source": [
    "import numpy as np\n",
    "import cv2"
   ]
  },
  {
   "cell_type": "code",
   "execution_count": 3,
   "id": "d40b4ebd-4173-46c8-90e7-c04eaa41fa30",
   "metadata": {},
   "outputs": [],
   "source": [
    "img = cv2.imread(\"Input/car.jpg\")"
   ]
  },
  {
   "cell_type": "markdown",
   "id": "b7c9b47e-0b56-4779-bc8c-c5ba55befeeb",
   "metadata": {},
   "source": [
    "## Addition"
   ]
  },
  {
   "cell_type": "code",
   "execution_count": 6,
   "id": "76c5cee2-5247-4965-927b-21d57a75b45c",
   "metadata": {},
   "outputs": [],
   "source": [
    "value = np.ones_like(img, dtype=\"uint8\")*100\n",
    "\n",
    "cv2.imshow(\"value\", value)\n",
    "cv2.waitKey(0)\n",
    "cv2.destroyAllWindows()"
   ]
  },
  {
   "cell_type": "code",
   "execution_count": 7,
   "id": "4116edaa-79ff-48c0-ba0a-aa78fc73ca3f",
   "metadata": {},
   "outputs": [],
   "source": [
    "img_add = cv2.add(img, value)\n",
    "\n",
    "cv2.imshow(\"original\", img)\n",
    "cv2.imshow(\"addition\", img_add)\n",
    "cv2.waitKey(0)\n",
    "cv2.destroyAllWindows()"
   ]
  },
  {
   "cell_type": "code",
   "execution_count": 8,
   "id": "5a6ec5d7-6100-46db-a0bd-a2d308f411ec",
   "metadata": {},
   "outputs": [
    {
     "data": {
      "text/plain": [
       "True"
      ]
     },
     "execution_count": 8,
     "metadata": {},
     "output_type": "execute_result"
    }
   ],
   "source": [
    "cv2.imwrite(\"Output/addition.png\", img_add)"
   ]
  },
  {
   "cell_type": "markdown",
   "id": "ab75f403-f27a-47ec-9992-a323a97eab3b",
   "metadata": {},
   "source": [
    "## Subtraction"
   ]
  },
  {
   "cell_type": "code",
   "execution_count": 9,
   "id": "07a13108-3210-4f79-b986-a7ed373a32f5",
   "metadata": {},
   "outputs": [],
   "source": [
    "value = np.ones_like(img, dtype=\"uint8\")*75"
   ]
  },
  {
   "cell_type": "code",
   "execution_count": 10,
   "id": "17359ad9-52f3-43b0-bfb3-b60a856b929b",
   "metadata": {},
   "outputs": [],
   "source": [
    "img_subtr = cv2.subtract(img, value)\n",
    "\n",
    "cv2.imshow(\"original\", img)\n",
    "cv2.imshow(\"subtraction\", img_subtr)\n",
    "cv2.waitKey(0)\n",
    "cv2.destroyAllWindows()"
   ]
  },
  {
   "cell_type": "code",
   "execution_count": 11,
   "id": "eecc6130-0be2-4b9d-a0ab-180063bbc531",
   "metadata": {},
   "outputs": [
    {
     "data": {
      "text/plain": [
       "True"
      ]
     },
     "execution_count": 11,
     "metadata": {},
     "output_type": "execute_result"
    }
   ],
   "source": [
    "cv2.imwrite(\"Output/subtraction.png\", img_subtr)"
   ]
  },
  {
   "cell_type": "markdown",
   "id": "57a908a5-5ded-49e3-b613-f31c113eb674",
   "metadata": {},
   "source": [
    "## Blending"
   ]
  },
  {
   "cell_type": "code",
   "execution_count": 12,
   "id": "45ec100e-b907-40da-af6c-24180ef537f3",
   "metadata": {},
   "outputs": [],
   "source": [
    "img1 = cv2.imread(\"Input/blend_1.jpg\")\n",
    "img2 = cv2.imread(\"Input/blend_2.jpg\")"
   ]
  },
  {
   "cell_type": "code",
   "execution_count": 15,
   "id": "932ec882-9dc2-4983-b82c-c991e8827ef2",
   "metadata": {},
   "outputs": [],
   "source": [
    "# (img1, alpha, img2, beta, gamma)\n",
    "# alpha and beta: transparency composition\n",
    "# gamma: brightness => 0 - 255\n",
    "\n",
    "blend1 = cv2.addWeighted(img1, 0.5, img2, 0.5, 0)\n",
    "blend2 = cv2.addWeighted(img1, 0.7, img2, 0.3, 0)\n",
    "blend3 = cv2.addWeighted(img1, 0.8, img2, 0.2, 0)\n",
    "blend4 = cv2.addWeighted(img1, 0.3, img2, 0.7, 0)\n",
    "blend5 = cv2.addWeighted(img1, 0.6, img2, 0.7, 0)\n",
    "blend6 = cv2.addWeighted(img1, 0.5, img2, 0.5, 50)"
   ]
  },
  {
   "cell_type": "code",
   "execution_count": 17,
   "id": "5eba5b0f-fbb2-41b4-9aa7-a222e91e21c2",
   "metadata": {},
   "outputs": [],
   "source": [
    "cv2.imshow(\"blend1\", blend1)\n",
    "cv2.imshow(\"blend2\", blend2)\n",
    "cv2.imshow(\"blend3\", blend3)\n",
    "cv2.imshow(\"blend4\", blend4)\n",
    "cv2.imshow(\"blend5\", blend5)\n",
    "cv2.imshow(\"blend6\", blend6)\n",
    "cv2.waitKey(0)\n",
    "cv2.destroyAllWindows()"
   ]
  },
  {
   "cell_type": "code",
   "execution_count": 18,
   "id": "33206829-0838-4aa9-982a-fca0d99cb5a4",
   "metadata": {},
   "outputs": [
    {
     "data": {
      "text/plain": [
       "True"
      ]
     },
     "execution_count": 18,
     "metadata": {},
     "output_type": "execute_result"
    }
   ],
   "source": [
    "cv2.imwrite(\"Output/blending.png\", blend1)"
   ]
  }
 ],
 "metadata": {
  "kernelspec": {
   "display_name": "Python 3 (ipykernel)",
   "language": "python",
   "name": "python3"
  },
  "language_info": {
   "codemirror_mode": {
    "name": "ipython",
    "version": 3
   },
   "file_extension": ".py",
   "mimetype": "text/x-python",
   "name": "python",
   "nbconvert_exporter": "python",
   "pygments_lexer": "ipython3",
   "version": "3.12.4"
  }
 },
 "nbformat": 4,
 "nbformat_minor": 5
}
