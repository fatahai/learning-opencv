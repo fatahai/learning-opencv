{
 "cells": [
  {
   "cell_type": "markdown",
   "id": "c17c3ae2-3883-447a-a477-f6e34c8d1118",
   "metadata": {},
   "source": [
    "# **Working on Videos**"
   ]
  },
  {
   "cell_type": "code",
   "execution_count": 1,
   "id": "244cc32a-0b58-42c7-8b65-4978647b18b5",
   "metadata": {},
   "outputs": [],
   "source": [
    "# import dependencies\n",
    "import numpy as np\n",
    "import cv2\n",
    "import time"
   ]
  },
  {
   "cell_type": "markdown",
   "id": "d362b372-1e81-4ffe-bbc0-b633ac598184",
   "metadata": {},
   "source": [
    "## Load and Display Video"
   ]
  },
  {
   "cell_type": "code",
   "execution_count": 2,
   "id": "e9332174-56d6-4603-be61-3abd75b57542",
   "metadata": {},
   "outputs": [],
   "source": [
    "# Load and display video\n",
    "\n",
    "capture = cv2.VideoCapture(\"Input/clip.mp4\") # Capture each frame from video\n",
    "\n",
    "while True:\n",
    "    ret, frame = capture.read()\n",
    "    if ret == False:\n",
    "        break\n",
    "\n",
    "    cv2.imshow(\"video\", frame) # Show each frame\n",
    "    if cv2.waitKey(1) == ord(\"q\"):\n",
    "        break\n",
    "\n",
    "capture.release()\n",
    "cv2.destroyAllWindows()"
   ]
  },
  {
   "cell_type": "markdown",
   "id": "50d22132-567f-4465-9443-b7d2f1b1fc7f",
   "metadata": {},
   "source": [
    "## Controlling FPS"
   ]
  },
  {
   "cell_type": "code",
   "execution_count": 3,
   "id": "52b5f7f7-6517-47e6-9acc-a989220efcee",
   "metadata": {},
   "outputs": [
    {
     "ename": "ZeroDivisionError",
     "evalue": "float division by zero",
     "output_type": "error",
     "traceback": [
      "\u001b[1;31m---------------------------------------------------------------------------\u001b[0m",
      "\u001b[1;31mZeroDivisionError\u001b[0m                         Traceback (most recent call last)",
      "Cell \u001b[1;32mIn[3], line 25\u001b[0m\n\u001b[0;32m     22\u001b[0m         \u001b[38;5;28;01mbreak\u001b[39;00m\n\u001b[0;32m     24\u001b[0m     time_taken \u001b[38;5;241m=\u001b[39m time\u001b[38;5;241m.\u001b[39mtime() \u001b[38;5;241m-\u001b[39m start_time \u001b[38;5;66;03m# Time taken in seconds\u001b[39;00m\n\u001b[1;32m---> 25\u001b[0m     fps \u001b[38;5;241m=\u001b[39m \u001b[38;5;241m1\u001b[39m\u001b[38;5;241m/\u001b[39mtime_taken \u001b[38;5;66;03m# Frames Per Second\u001b[39;00m\n\u001b[0;32m     27\u001b[0m capture\u001b[38;5;241m.\u001b[39mrelease()\n\u001b[0;32m     28\u001b[0m cv2\u001b[38;5;241m.\u001b[39mdestroyAllWindows()\n",
      "\u001b[1;31mZeroDivisionError\u001b[0m: float division by zero"
     ]
    }
   ],
   "source": [
    "# Calculate FPS\n",
    "\n",
    "capture = cv2.VideoCapture(\"Input/clip.mp4\") # Capture each frame from video\n",
    "\n",
    "fps = 0\n",
    "while True:\n",
    "    start_time = time.time() # Start time\n",
    "    ret, frame = capture.read()\n",
    "    if ret == False:\n",
    "        break\n",
    "\n",
    "    cv2.putText(frame, # Add FPS text\n",
    "                \"FPS: {:.0f}\".format(fps), # Number format\n",
    "                (30, 40), # Text position (x, y)\n",
    "                cv2.FONT_HERSHEY_SIMPLEX, # font type\n",
    "                1.5, # font size\n",
    "                (255, 255, 255), # font color\n",
    "                1) # font thickness\n",
    "    \n",
    "    cv2.imshow(\"video\", frame) # Show each frame\n",
    "    if cv2.waitKey(1) == ord(\"q\"):\n",
    "        break\n",
    "\n",
    "    time_taken = time.time() - start_time # Time taken in seconds\n",
    "    fps = 1/time_taken # Frames Per Second\n",
    "\n",
    "capture.release()\n",
    "cv2.destroyAllWindows()"
   ]
  },
  {
   "cell_type": "code",
   "execution_count": 5,
   "id": "85b14e81-3603-4055-bbf1-811fd5af2dd3",
   "metadata": {},
   "outputs": [
    {
     "name": "stdout",
     "output_type": "stream",
     "text": [
      "16.666666666666668\n"
     ]
    }
   ],
   "source": [
    "# waitKey (1) means delay 1 ms ==> is about 1000 FPS\n",
    "# If we want to 24 FPS: 1000/24\n",
    "fps_24 = 1000/60\n",
    "print(fps_24)\n",
    "\n",
    "# So, fill waitKey with fps_24"
   ]
  },
  {
   "cell_type": "code",
   "execution_count": 6,
   "id": "e1cef90a-3077-42b7-ae62-846bb88b29ab",
   "metadata": {},
   "outputs": [],
   "source": [
    "# Set 24 FPS\n",
    "\n",
    "capture = cv2.VideoCapture(\"Input/clip.mp4\") # Capture each frame from video\n",
    "\n",
    "fps = 0\n",
    "while True:\n",
    "    start_time = time.time() # Start time\n",
    "    ret, frame = capture.read()\n",
    "    if ret == False:\n",
    "        break\n",
    "\n",
    "    cv2.putText(frame, # Add FPS text\n",
    "                \"FPS: {:.0f}\".format(fps), # Number format\n",
    "                (30, 40), # Text position (x, y)\n",
    "                cv2.FONT_HERSHEY_SIMPLEX, # font type\n",
    "                1.5, # font size\n",
    "                (255, 255, 255), # font color\n",
    "                1) # font thickness\n",
    "    \n",
    "    cv2.imshow(\"video\", frame) # Show each frame\n",
    "    if cv2.waitKey(17) == ord(\"q\"): # To set 24 FPS\n",
    "        break\n",
    "\n",
    "    time_taken = time.time() - start_time # Time taken in seconds\n",
    "    fps = 1/time_taken # Frames Per Second\n",
    "\n",
    "capture.release()\n",
    "cv2.destroyAllWindows()"
   ]
  },
  {
   "cell_type": "markdown",
   "id": "03526a01-fd45-4947-8ec5-f1c52fa03d72",
   "metadata": {},
   "source": [
    "## Accessing Web Camera"
   ]
  },
  {
   "cell_type": "code",
   "execution_count": 4,
   "id": "6ba11a78-cafe-4b2b-b14e-e4ffd27d7e13",
   "metadata": {},
   "outputs": [],
   "source": [
    "capture = cv2.VideoCapture(0) # 0 means internal webcam, 1 means external webcam 1, 2 means external webcam 2, ...\n",
    "fps = 0\n",
    "while True:\n",
    "    start_time = time.time() # Start time\n",
    "    ret, frame = capture.read()\n",
    "    if ret == False:\n",
    "        break\n",
    "\n",
    "    cv2.putText(frame, # Add FPS text\n",
    "                \"FPS: {:.0f}\".format(fps), # Number format\n",
    "                (30, 40), # Text position (x, y)\n",
    "                cv2.FONT_HERSHEY_SIMPLEX, # font type\n",
    "                1.5, # font size\n",
    "                (255, 255, 255), # font color\n",
    "                1) # font thickness\n",
    "    \n",
    "    cv2.imshow(\"webcam\", frame) # Show each frame\n",
    "    if cv2.waitKey(1) == ord(\"q\"):\n",
    "        break\n",
    "\n",
    "    time_taken = time.time() - start_time # Time taken in seconds\n",
    "    fps = 1/time_taken # Frames Per Second\n",
    "\n",
    "capture.release()\n",
    "cv2.destroyAllWindows()"
   ]
  }
 ],
 "metadata": {
  "kernelspec": {
   "display_name": "Python 3 (ipykernel)",
   "language": "python",
   "name": "python3"
  },
  "language_info": {
   "codemirror_mode": {
    "name": "ipython",
    "version": 3
   },
   "file_extension": ".py",
   "mimetype": "text/x-python",
   "name": "python",
   "nbconvert_exporter": "python",
   "pygments_lexer": "ipython3",
   "version": "3.12.4"
  }
 },
 "nbformat": 4,
 "nbformat_minor": 5
}
