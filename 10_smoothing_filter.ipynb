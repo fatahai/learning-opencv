{
 "cells": [
  {
   "cell_type": "markdown",
   "id": "3df67ae0-dab0-4102-a5e7-fb56f13c4a9d",
   "metadata": {},
   "source": [
    "## **Smoothing Filters**"
   ]
  },
  {
   "cell_type": "code",
   "execution_count": 1,
   "id": "03340dae-7fb1-468f-a8dd-47a897fb6267",
   "metadata": {},
   "outputs": [],
   "source": [
    "import numpy as np\n",
    "import cv2"
   ]
  },
  {
   "cell_type": "code",
   "execution_count": 2,
   "id": "59aa44b6-3f0a-4681-aec9-a6d69aa2a47c",
   "metadata": {},
   "outputs": [],
   "source": [
    "img = cv2.imread(\"Input/beach.jpg\")\n",
    "\n",
    "cv2.imshow(\"image\", img)\n",
    "cv2.waitKey(0)\n",
    "cv2.destroyAllWindows()"
   ]
  },
  {
   "cell_type": "markdown",
   "id": "69ed56fd-ab33-45a7-bcee-432a1d175b9c",
   "metadata": {},
   "source": [
    "## Average Blur"
   ]
  },
  {
   "cell_type": "code",
   "execution_count": 3,
   "id": "82a5b466-384b-4841-b1e5-9436f349e1c0",
   "metadata": {},
   "outputs": [],
   "source": [
    "# kernel must be odd number\n",
    "blur_avg3 = cv2.blur(img, (3,3))\n",
    "blur_avg5 = cv2.blur(img, (5,5))\n",
    "blur_avg7 = cv2.blur(img, (7,7))\n",
    "blur_avg9 = cv2.blur(img, (9,9))"
   ]
  },
  {
   "cell_type": "code",
   "execution_count": 4,
   "id": "91407183-5cef-4faf-9aea-7e8ae2282861",
   "metadata": {},
   "outputs": [],
   "source": [
    "cv2.imshow(\"original\", img)\n",
    "cv2.imshow(\"blur 3x3\", blur_avg3)\n",
    "cv2.imshow(\"blur 5x5\", blur_avg5)\n",
    "cv2.imshow(\"blur 7x7\", blur_avg7)\n",
    "cv2.imshow(\"blur 9x9\", blur_avg9)\n",
    "cv2.waitKey(0)\n",
    "cv2.destroyAllWindows()"
   ]
  },
  {
   "cell_type": "markdown",
   "id": "aead4988-051d-41e4-9dcf-72eaf5c226f3",
   "metadata": {},
   "source": [
    "## Gaussian Blur"
   ]
  },
  {
   "cell_type": "code",
   "execution_count": 5,
   "id": "c45428e7-b199-466e-8ff7-ca2e40dff47f",
   "metadata": {},
   "outputs": [],
   "source": [
    "blur_gaus3 = cv2.GaussianBlur(img, (3,3), 0)\n",
    "blur_gaus5 = cv2.GaussianBlur(img, (5,5), 0)\n",
    "blur_gaus7 = cv2.GaussianBlur(img, (7,7), 0)\n",
    "blur_gaus9 = cv2.GaussianBlur(img, (9,9), 0)"
   ]
  },
  {
   "cell_type": "code",
   "execution_count": 6,
   "id": "a8fadc35-c0b3-42ff-83ca-15626f81630a",
   "metadata": {},
   "outputs": [],
   "source": [
    "cv2.imshow(\"original\", img)\n",
    "cv2.imshow(\"blur 3x3\", blur_gaus3)\n",
    "cv2.imshow(\"blur 5x5\", blur_gaus5)\n",
    "cv2.imshow(\"blur 7x7\", blur_gaus7)\n",
    "cv2.imshow(\"blur 9x9\", blur_gaus9)\n",
    "cv2.waitKey(0)\n",
    "cv2.destroyAllWindows()"
   ]
  },
  {
   "cell_type": "markdown",
   "id": "1b18b011-990d-4b21-94df-068f85d96c0f",
   "metadata": {},
   "source": [
    "## Median Blur"
   ]
  },
  {
   "cell_type": "code",
   "execution_count": 7,
   "id": "67124904-ccfb-4360-9c52-bab6fbc79ed8",
   "metadata": {},
   "outputs": [],
   "source": [
    "sp = cv2.imread(\"Input/sp_noise.jpg\")\n",
    "\n",
    "cv2.imshow(\"salt peper\", sp)\n",
    "cv2.waitKey(0)\n",
    "cv2.destroyAllWindows()"
   ]
  },
  {
   "cell_type": "code",
   "execution_count": 8,
   "id": "05663bfc-4ca3-4c1d-bdec-28e98317724c",
   "metadata": {},
   "outputs": [],
   "source": [
    "# Median blur is most effective for noise\n",
    "blur_med3 = cv2.medianBlur(sp, 3)\n",
    "blur_med5 = cv2.medianBlur(sp, 5)\n",
    "blur_med7 = cv2.medianBlur(sp, 7)\n",
    "blur_med9 = cv2.medianBlur(sp, 9)\n",
    "\n",
    "# Compare with average blur and gaussian blur\n",
    "blur_avg3 = cv2.blur(sp, (3,3))\n",
    "blur_gaus3 = cv2.GaussianBlur(sp, (3,3), 0)"
   ]
  },
  {
   "cell_type": "code",
   "execution_count": 9,
   "id": "869e69e0-8b9e-40f1-9637-3640f77b36c9",
   "metadata": {},
   "outputs": [],
   "source": [
    "cv2.imshow(\"original\", sp)\n",
    "cv2.imshow(\"average blur 3x3\", blur_avg3)\n",
    "cv2.imshow(\"gaussian blur 3x3\", blur_gaus3)\n",
    "cv2.imshow(\"median blur 3x3\", blur_med3)\n",
    "cv2.waitKey(0)\n",
    "cv2.destroyAllWindows()"
   ]
  },
  {
   "cell_type": "code",
   "execution_count": 17,
   "id": "67fdbafe-6080-4cb7-91a6-facacf13e684",
   "metadata": {},
   "outputs": [
    {
     "data": {
      "text/plain": [
       "True"
      ]
     },
     "execution_count": 17,
     "metadata": {},
     "output_type": "execute_result"
    }
   ],
   "source": [
    "cv2.imwrite(\"Output/median blur 3x3.png\", blur_med3)"
   ]
  }
 ],
 "metadata": {
  "kernelspec": {
   "display_name": "Python 3 (ipykernel)",
   "language": "python",
   "name": "python3"
  },
  "language_info": {
   "codemirror_mode": {
    "name": "ipython",
    "version": 3
   },
   "file_extension": ".py",
   "mimetype": "text/x-python",
   "name": "python",
   "nbconvert_exporter": "python",
   "pygments_lexer": "ipython3",
   "version": "3.12.4"
  }
 },
 "nbformat": 4,
 "nbformat_minor": 5
}
