{
 "cells": [
  {
   "cell_type": "markdown",
   "id": "036e862a-aead-468e-8378-56fc809cab20",
   "metadata": {},
   "source": [
    "# **Bilateral Filter**"
   ]
  },
  {
   "cell_type": "code",
   "execution_count": 1,
   "id": "6dd5b7f7-8d1d-42af-8f66-550906d6526a",
   "metadata": {},
   "outputs": [],
   "source": [
    "import cv2\n",
    "import numpy as np"
   ]
  },
  {
   "cell_type": "code",
   "execution_count": 2,
   "id": "d50ebd41-4fe0-432a-bccc-b2cb40651152",
   "metadata": {},
   "outputs": [],
   "source": [
    "img = cv2.imread(\"Input/1.2 face_with_spot.jpg\")\n",
    "\n",
    "cv2.imshow(\"face\", img)\n",
    "cv2.waitKey(0)\n",
    "cv2.destroyAllWindows()"
   ]
  },
  {
   "cell_type": "code",
   "execution_count": 3,
   "id": "4078a2f1-3fb7-4fe4-b018-a32ac5634223",
   "metadata": {},
   "outputs": [],
   "source": [
    "bilateral_filter = cv2.bilateralFilter(img, 20, 50, 80)"
   ]
  },
  {
   "cell_type": "code",
   "execution_count": 4,
   "id": "5642578d-c540-44c5-9939-9bf4a4ce8eda",
   "metadata": {},
   "outputs": [],
   "source": [
    "cv2.imshow(\"face\", img)\n",
    "cv2.imshow(\"bilateral\", bilateral_filter)\n",
    "cv2.waitKey(0)\n",
    "cv2.destroyAllWindows()"
   ]
  },
  {
   "cell_type": "code",
   "execution_count": 5,
   "id": "8ae30abe-cee1-4894-a688-31db5989dd6e",
   "metadata": {},
   "outputs": [
    {
     "data": {
      "text/plain": [
       "True"
      ]
     },
     "execution_count": 5,
     "metadata": {},
     "output_type": "execute_result"
    }
   ],
   "source": [
    "cv2.imwrite(\"Output/bilateral filter.png\", bilateral_filter)"
   ]
  }
 ],
 "metadata": {
  "kernelspec": {
   "display_name": "Python 3 (ipykernel)",
   "language": "python",
   "name": "python3"
  },
  "language_info": {
   "codemirror_mode": {
    "name": "ipython",
    "version": 3
   },
   "file_extension": ".py",
   "mimetype": "text/x-python",
   "name": "python",
   "nbconvert_exporter": "python",
   "pygments_lexer": "ipython3",
   "version": "3.12.4"
  }
 },
 "nbformat": 4,
 "nbformat_minor": 5
}
