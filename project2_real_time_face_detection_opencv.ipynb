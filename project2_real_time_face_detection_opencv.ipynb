{
 "cells": [
  {
   "cell_type": "markdown",
   "id": "6cc87693-c44f-46d2-9993-b0fe54acc221",
   "metadata": {},
   "source": [
    "# **Real Time Face Detection with OpenCV**"
   ]
  },
  {
   "cell_type": "code",
   "execution_count": 36,
   "id": "8989586c-a983-466a-8cf9-8cd67a0835e2",
   "metadata": {},
   "outputs": [],
   "source": [
    "import numpy as np\n",
    "import cv2"
   ]
  },
  {
   "cell_type": "code",
   "execution_count": 40,
   "id": "dcd6b8b4-9d74-46ab-adc0-6bb2ee952493",
   "metadata": {},
   "outputs": [],
   "source": [
    "# Create face detection function\n",
    "face_cascade = cv2.CascadeClassifier(\"Input/haarcascade_frontalface_default.xml\")\n",
    "def face_detection(img):\n",
    "    \n",
    "    # Duplicate image\n",
    "    image = img.copy()\n",
    "    # Step-1: Convert image into grayscale\n",
    "    gray = cv2.cvtColor(img, cv2.COLOR_BGR2GRAY)\n",
    "    # Step-2: Apply grayscale image to cascade classifier\n",
    "    box, detections = face_cascade.detectMultiScale2(gray, minNeighbors=4)\n",
    "        # Step-3: Drawing bounding box\n",
    "    for x, y, w, h in box:\n",
    "        \n",
    "        cv2.rectangle(image, (x,y), (x+w, y+h), (0, 255, 255), 1)\n",
    "\n",
    "    return image"
   ]
  },
  {
   "cell_type": "code",
   "execution_count": 41,
   "id": "7196f312-f0b0-4feb-b8f4-942154195ade",
   "metadata": {},
   "outputs": [],
   "source": [
    "# Create real time face detection\n",
    "cap = cv2.VideoCapture(0)\n",
    "while True:\n",
    "    ret, frame = cap.read()\n",
    "    if ret == False:\n",
    "        break\n",
    "    img_detect = face_detection(frame)\n",
    "    cv2.imshow(\"Real Time Face Detection\", img_detect)\n",
    "    if cv2.waitKey(1) == ord(\"q\"):\n",
    "        break\n",
    "\n",
    "cap.release()\n",
    "cv2.destroyAllWindows()"
   ]
  }
 ],
 "metadata": {
  "kernelspec": {
   "display_name": "Python 3 (ipykernel)",
   "language": "python",
   "name": "python3"
  },
  "language_info": {
   "codemirror_mode": {
    "name": "ipython",
    "version": 3
   },
   "file_extension": ".py",
   "mimetype": "text/x-python",
   "name": "python",
   "nbconvert_exporter": "python",
   "pygments_lexer": "ipython3",
   "version": "3.12.4"
  }
 },
 "nbformat": 4,
 "nbformat_minor": 5
}
