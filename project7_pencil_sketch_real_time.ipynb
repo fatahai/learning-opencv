{
 "cells": [
  {
   "cell_type": "markdown",
   "id": "c6b86d4c-ae5d-46e1-ba66-eb1aeaa3a1d7",
   "metadata": {},
   "source": [
    "## **Pencil Sketch Image in Real Time**"
   ]
  },
  {
   "cell_type": "code",
   "execution_count": 2,
   "id": "dba3fe7d-b4d9-4194-b2e1-1afa46bccc01",
   "metadata": {},
   "outputs": [],
   "source": [
    "import numpy as np\n",
    "import cv2"
   ]
  },
  {
   "cell_type": "code",
   "execution_count": 3,
   "id": "8aedfc5d-8344-447e-b792-3fa4b3176a8d",
   "metadata": {},
   "outputs": [],
   "source": [
    "# Load the image\n",
    "img = cv2.imread(\"Input/friends.jpg\")\n",
    "\n",
    "cv2.imshow(\"original\", img)\n",
    "cv2.waitKey(0)\n",
    "cv2.destroyAllWindows()"
   ]
  },
  {
   "cell_type": "markdown",
   "id": "48fca274-0e2e-4ce6-b316-d62345aaf106",
   "metadata": {},
   "source": [
    "**Pencil Sketch Flow**\n",
    "\n",
    "![image](Input/pencil_sketch_flow.PNG)"
   ]
  },
  {
   "cell_type": "code",
   "execution_count": 4,
   "id": "9631da9d-64ba-4e95-b9f0-e7f3dae73958",
   "metadata": {},
   "outputs": [],
   "source": [
    "# Step-1: convert image into grayscale\n",
    "gray = cv2.cvtColor(img, cv2.COLOR_BGR2GRAY)\n",
    "\n",
    "# Step-2: apply gaussian blur to the image (kernel 3 x 3)\n",
    "blur = cv2.GaussianBlur(gray, (3,3), 0)\n",
    "\n",
    "# Step-3: division image\n",
    "division_img = cv2.divide(gray, blur, scale=256)\n",
    "\n",
    "# Step-4: adjust gamma factor using Lock Up Table (LUT)\n",
    "gamma = 0.1\n",
    "# make sure gamma not equal to zero\n",
    "if gamma == 0:\n",
    "    gamma = 0.01\n",
    "invers_gamma = 1/gamma\n",
    "lut = np.array([((i/255)**invers_gamma)*255 for i in range(0,256)])\n",
    "pencil_sketch_img = cv2.LUT(division_img.astype(\"uint8\"), lut.astype(\"uint8\"))\n",
    "\n",
    "cv2.imshow(\"original\", img)\n",
    "cv2.imshow(\"grayscale\", gray)\n",
    "cv2.imshow(\"gaussion blur\", blur)\n",
    "cv2.imshow(\"division image\", division_img)\n",
    "cv2.imshow(\"pencil sketch image\", pencil_sketch_img)\n",
    "cv2.waitKey(0)\n",
    "cv2.destroyAllWindows()"
   ]
  },
  {
   "cell_type": "code",
   "execution_count": 4,
   "id": "b4083cd5-452c-46e3-b4b8-b15741c05878",
   "metadata": {},
   "outputs": [],
   "source": [
    "# create function\n",
    "\n",
    "def pencil_sketch(img, ksize, gamma):\n",
    "    # Step-1: convert image into grayscale\n",
    "    gray = cv2.cvtColor(img, cv2.COLOR_BGR2GRAY)\n",
    "    \n",
    "    # Step-2: apply gaussian blur to the image\n",
    "    blur = cv2.GaussianBlur(gray, (ksize,ksize), 0)\n",
    "    \n",
    "    # Step-3: division image\n",
    "    division_img = cv2.divide(gray, blur, scale=256)\n",
    "    \n",
    "    # Step-4: adjust gamma factor using Lock Up Table (LUT), make sure gamma not equal to zero\n",
    "    if gamma == 0:\n",
    "        gamma = 0.01\n",
    "\n",
    "    elif gamma < 0:\n",
    "        raise Exception(\"Gamma cannot be negative value (gamma range = 0 - 1)\")\n",
    "\n",
    "    elif gamma > 1:\n",
    "        raise Exception(\"Gamma cannot be grater than 1 (gamma range = 0 - 1)\")\n",
    "        \n",
    "    invers_gamma = 1/gamma\n",
    "    lut = np.array([((i/255)**invers_gamma)*255 for i in range(0,256)])\n",
    "    pencil_sketch_img = cv2.LUT(division_img.astype(\"uint8\"), lut.astype(\"uint8\"))\n",
    "\n",
    "    return pencil_sketch_img"
   ]
  },
  {
   "cell_type": "code",
   "execution_count": 13,
   "id": "da26cabe-3968-4073-a480-f1954bd708ee",
   "metadata": {},
   "outputs": [],
   "source": [
    "pencil_image = pencil_sketch(img, 5, 0.05)"
   ]
  },
  {
   "cell_type": "code",
   "execution_count": 14,
   "id": "7cc43d4c-6e0f-4fce-8a41-122d472d254c",
   "metadata": {},
   "outputs": [],
   "source": [
    "cv2.imshow(\"original\", img)\n",
    "cv2.imshow(\"pencil sketch image\", pencil_image)\n",
    "cv2.waitKey(0)\n",
    "cv2.destroyAllWindows()"
   ]
  },
  {
   "cell_type": "markdown",
   "id": "c03aab7e-74c7-455f-97cc-933e1cef3a04",
   "metadata": {},
   "source": [
    "## GUI for Pencil Sketch"
   ]
  },
  {
   "cell_type": "code",
   "execution_count": 20,
   "id": "b470c778-e811-4271-ac2a-730062f79f67",
   "metadata": {},
   "outputs": [],
   "source": [
    "image = cv2.imread(\"Input/friends.jpg\")\n",
    "\n",
    "# Create control panel\n",
    "cv2.namedWindow(\"control panel\")\n",
    "cv2.createTrackbar(\"ksize\", \"control panel\", 1, 100, (lambda x:None))\n",
    "cv2.createTrackbar(\"gamma\", \"control panel\", 1, 100, (lambda x:None))\n",
    "\n",
    "while True:\n",
    "    # take k-size\n",
    "    k = cv2.getTrackbarPos(\"ksize\", \"control panel\")\n",
    "    # k-size must be an odd number (2n+1)\n",
    "    k = 2*k + 1\n",
    "    # calibrate gamma 1-100 t0 0-1 scale\n",
    "    g = cv2.getTrackbarPos(\"gamma\", \"control panel\")\n",
    "    g = g/100\n",
    "    # recall the pencil sketch function\n",
    "    pencil_img = pencil_sketch(image, k, g)\n",
    "\n",
    "    cv2.imshow(\"original\", image)\n",
    "    cv2.imshow(\"pencil sketch\", pencil_img)\n",
    "    if cv2.waitKey(1) == 27: # to close the window must push ESC button\n",
    "        break\n",
    "        \n",
    "cv2.destroyAllWindows()"
   ]
  },
  {
   "cell_type": "code",
   "execution_count": 19,
   "id": "c8d3c1c5-257b-4099-b530-8d4d4000b1e7",
   "metadata": {},
   "outputs": [
    {
     "data": {
      "text/plain": [
       "True"
      ]
     },
     "execution_count": 19,
     "metadata": {},
     "output_type": "execute_result"
    }
   ],
   "source": [
    "cv2.imwrite(\"Output/pencil sketch.png\", pencil_img)"
   ]
  }
 ],
 "metadata": {
  "kernelspec": {
   "display_name": "Python 3 (ipykernel)",
   "language": "python",
   "name": "python3"
  },
  "language_info": {
   "codemirror_mode": {
    "name": "ipython",
    "version": 3
   },
   "file_extension": ".py",
   "mimetype": "text/x-python",
   "name": "python",
   "nbconvert_exporter": "python",
   "pygments_lexer": "ipython3",
   "version": "3.12.4"
  }
 },
 "nbformat": 4,
 "nbformat_minor": 5
}
