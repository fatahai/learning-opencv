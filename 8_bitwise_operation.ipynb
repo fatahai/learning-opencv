{
 "cells": [
  {
   "cell_type": "markdown",
   "id": "f4b0c78f-18b1-4aab-95fc-2d7aa85bc60d",
   "metadata": {},
   "source": [
    "# **Bitwise Operation**"
   ]
  },
  {
   "cell_type": "code",
   "execution_count": 1,
   "id": "a290ad7a-d831-473e-9864-d88e08852793",
   "metadata": {},
   "outputs": [],
   "source": [
    "import numpy as np\n",
    "import cv2"
   ]
  },
  {
   "cell_type": "code",
   "execution_count": 5,
   "id": "9d1208b8-ac7d-478f-90bc-3d1e2bf217de",
   "metadata": {},
   "outputs": [],
   "source": [
    "rec = np.zeros((300,300), dtype=\"uint8\")\n",
    "cv2.rectangle(rec, (25,25), (275,275), 255, -1)\n",
    "\n",
    "cv2.imshow(\"rectangle\", rec)\n",
    "cv2.waitKey(0)\n",
    "cv2.destroyAllWindows()"
   ]
  },
  {
   "cell_type": "code",
   "execution_count": 6,
   "id": "149d1bb1-9716-4247-97da-a66836bfda18",
   "metadata": {},
   "outputs": [],
   "source": [
    "cir = np.zeros((300,300), dtype=\"uint8\")\n",
    "cv2.circle(cir, (150,150), 150, 255, -1)\n",
    "\n",
    "cv2.imshow(\"circle\", cir)\n",
    "cv2.waitKey(0)\n",
    "cv2.destroyAllWindows()"
   ]
  },
  {
   "cell_type": "markdown",
   "id": "a9716537-7629-4855-a672-4b6fa570f2a4",
   "metadata": {},
   "source": [
    "## AND"
   ]
  },
  {
   "cell_type": "code",
   "execution_count": 12,
   "id": "cfb0f418-bdad-4d53-ab3b-4d004cc2539a",
   "metadata": {},
   "outputs": [],
   "source": [
    "img_and = cv2.bitwise_and(rec, cir)\n",
    "\n",
    "cv2.imshow(\"rectangle\", rec)\n",
    "cv2.imshow(\"circle\", cir)\n",
    "cv2.imshow(\"AND\", img_and)\n",
    "cv2.waitKey(0)\n",
    "cv2.destroyAllWindows()"
   ]
  },
  {
   "cell_type": "markdown",
   "id": "2584a1d1-3689-40ef-8565-bffa093c9e8d",
   "metadata": {},
   "source": [
    "## OR"
   ]
  },
  {
   "cell_type": "code",
   "execution_count": 13,
   "id": "dde249f8-a347-4bb9-9ba6-44e59599bd3a",
   "metadata": {},
   "outputs": [],
   "source": [
    "img_or = cv2.bitwise_or(rec, cir)\n",
    "\n",
    "cv2.imshow(\"rectangle\", rec)\n",
    "cv2.imshow(\"circle\", cir)\n",
    "cv2.imshow(\"OR\", img_or)\n",
    "cv2.waitKey(0)\n",
    "cv2.destroyAllWindows()"
   ]
  },
  {
   "cell_type": "markdown",
   "id": "a059c5da-c41e-4e7a-93a1-1855c6f820cd",
   "metadata": {},
   "source": [
    "## NOT"
   ]
  },
  {
   "cell_type": "code",
   "execution_count": 14,
   "id": "e4c8e268-748c-48b3-8e6d-b70d83e347a7",
   "metadata": {},
   "outputs": [],
   "source": [
    "img_not = cv2.bitwise_not(rec)\n",
    "\n",
    "cv2.imshow(\"rectangle\", rec)\n",
    "cv2.imshow(\"NOT\", img_not)\n",
    "cv2.waitKey(0)\n",
    "cv2.destroyAllWindows()"
   ]
  },
  {
   "cell_type": "markdown",
   "id": "19da7601-c952-42a8-8ec2-d24a1821566e",
   "metadata": {},
   "source": [
    "## XOR"
   ]
  },
  {
   "cell_type": "code",
   "execution_count": 16,
   "id": "84348f7d-d2cf-4840-a261-4f913d9cdf8c",
   "metadata": {},
   "outputs": [],
   "source": [
    "img_xor = cv2.bitwise_xor(rec, cir)\n",
    "\n",
    "cv2.imshow(\"rectangle\", rec)\n",
    "cv2.imshow(\"circle\", cir)\n",
    "cv2.imshow(\"XOR\", img_xor)\n",
    "cv2.waitKey(0)\n",
    "cv2.destroyAllWindows()"
   ]
  }
 ],
 "metadata": {
  "kernelspec": {
   "display_name": "Python 3 (ipykernel)",
   "language": "python",
   "name": "python3"
  },
  "language_info": {
   "codemirror_mode": {
    "name": "ipython",
    "version": 3
   },
   "file_extension": ".py",
   "mimetype": "text/x-python",
   "name": "python",
   "nbconvert_exporter": "python",
   "pygments_lexer": "ipython3",
   "version": "3.12.4"
  }
 },
 "nbformat": 4,
 "nbformat_minor": 5
}
