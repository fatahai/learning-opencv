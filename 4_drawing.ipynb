{
 "cells": [
  {
   "cell_type": "markdown",
   "id": "b8b9c4e6-5930-4a75-8091-72f2a51a372d",
   "metadata": {},
   "source": [
    "# **Drawing**"
   ]
  },
  {
   "cell_type": "code",
   "execution_count": 1,
   "id": "a8c2371b-1a5b-4bd3-bf1c-7a2a8897a924",
   "metadata": {},
   "outputs": [],
   "source": [
    "import numpy as np\n",
    "import cv2"
   ]
  },
  {
   "cell_type": "code",
   "execution_count": 3,
   "id": "9ba455c3-89f5-4286-b326-659d117f780d",
   "metadata": {},
   "outputs": [],
   "source": [
    "# Create empty canvas\n",
    "canvas = np.zeros((300, 300, 3), dtype=\"uint8\")"
   ]
  },
  {
   "cell_type": "code",
   "execution_count": 4,
   "id": "deae6f5c-d266-4fa3-8003-3c52d645f170",
   "metadata": {},
   "outputs": [],
   "source": [
    "# Create display function\n",
    "def display(winname, image):\n",
    "    cv2.imshow(winname, image)\n",
    "    cv2.waitKey(0)\n",
    "    cv2.destroyAllWindows()"
   ]
  },
  {
   "cell_type": "code",
   "execution_count": 5,
   "id": "14798487-5d1f-40f4-b2ca-51d901ef27ed",
   "metadata": {},
   "outputs": [],
   "source": [
    "display(\"canvas\", canvas)"
   ]
  },
  {
   "cell_type": "markdown",
   "id": "17a50f10-ff74-4962-9434-e6fb1e48ed45",
   "metadata": {},
   "source": [
    "## Draw Line"
   ]
  },
  {
   "cell_type": "code",
   "execution_count": 6,
   "id": "2046ab0d-5603-4dd3-a04b-7d954ed6e09f",
   "metadata": {},
   "outputs": [],
   "source": [
    "green = (0, 255, 0) # Define green color\n",
    "\n",
    "#        media, start point, end point, color\n",
    "cv2.line(canvas, (0,0), (300, 300), green)\n",
    "\n",
    "display(\"canvas\", canvas)"
   ]
  },
  {
   "cell_type": "code",
   "execution_count": 7,
   "id": "8b419c5b-be1c-4ccf-8843-f937b51bdae7",
   "metadata": {},
   "outputs": [],
   "source": [
    "red = (0, 0, 255) # Define red color\n",
    "cv2.line(canvas, (300, 0), (0, 300), red)\n",
    "display(\"canvas\", canvas)"
   ]
  },
  {
   "cell_type": "markdown",
   "id": "2733de5b-3828-48ca-8bd2-d7ea992b9d7d",
   "metadata": {},
   "source": [
    "## Draw Rectangle"
   ]
  },
  {
   "cell_type": "code",
   "execution_count": 11,
   "id": "aaa3b787-850f-4b62-8542-14f0841e1a6b",
   "metadata": {},
   "outputs": [],
   "source": [
    "blue = (255, 0, 0) # Define blue color\n",
    "\n",
    "cv2.rectangle(canvas, (10, 10), (60, 60), green)\n",
    "cv2.rectangle(canvas, (50, 200), (200, 225), red)\n",
    "cv2.rectangle(canvas, (200, 50), (225, 200), blue, -1)\n",
    "\n",
    "display(\"canvas\", canvas)"
   ]
  },
  {
   "cell_type": "markdown",
   "id": "b9457607-4653-4fd4-8443-bfacba947c12",
   "metadata": {},
   "source": [
    "## Draw Circles"
   ]
  },
  {
   "cell_type": "code",
   "execution_count": 12,
   "id": "94567b93-bb70-4a87-b2ab-5ea0cf8a8594",
   "metadata": {},
   "outputs": [],
   "source": [
    "canvas2 = np.zeros((300, 300, 3), dtype=\"uint8\")"
   ]
  },
  {
   "cell_type": "code",
   "execution_count": 16,
   "id": "c1af89bc-6908-4295-a785-96a593432485",
   "metadata": {},
   "outputs": [],
   "source": [
    "centerx, centery = (canvas2.shape[1] // 2, canvas2.shape[0] // 2)\n",
    "\n",
    "white = (255, 255, 255)\n",
    "\n",
    "for r in range(0, 175, 25):\n",
    "    cv2.circle(canvas2, (centerx, centery), r, white)\n",
    "\n",
    "display(\"circle\", canvas2)"
   ]
  },
  {
   "cell_type": "markdown",
   "id": "88aa4d9e-b642-4874-bf33-0296607d5cc4",
   "metadata": {},
   "source": [
    "## Abstract Drawing"
   ]
  },
  {
   "cell_type": "code",
   "execution_count": 18,
   "id": "aa103a4a-032e-4e47-93c5-c087e0c87b38",
   "metadata": {},
   "outputs": [],
   "source": [
    "canvas3 = np.zeros((300, 300, 3), dtype=\"uint8\")"
   ]
  },
  {
   "cell_type": "code",
   "execution_count": 22,
   "id": "f14fa1d1-a256-4a2c-a855-bcfdb991154e",
   "metadata": {},
   "outputs": [],
   "source": [
    "# Generate 25 random circles\n",
    "for i in range(0, 25):\n",
    "    radius = np.random.randint(5, 200)\n",
    "    color = np.random.randint(0, 255, size=(3, )).tolist()\n",
    "    point = np.random.randint(0, 300, size=(2, ))\n",
    "    cv2.circle(canvas3, tuple(point), radius, color, -1)\n",
    "\n",
    "display(\"Abstract Circles\", canvas3)"
   ]
  },
  {
   "cell_type": "code",
   "execution_count": 23,
   "id": "9b4da2aa-e716-449b-8a67-98da53153b4b",
   "metadata": {},
   "outputs": [
    {
     "data": {
      "text/plain": [
       "True"
      ]
     },
     "execution_count": 23,
     "metadata": {},
     "output_type": "execute_result"
    }
   ],
   "source": [
    "# Save canvas3\n",
    "cv2.imwrite(\"Output/canvas.png\", canvas3)"
   ]
  }
 ],
 "metadata": {
  "kernelspec": {
   "display_name": "Python 3 (ipykernel)",
   "language": "python",
   "name": "python3"
  },
  "language_info": {
   "codemirror_mode": {
    "name": "ipython",
    "version": 3
   },
   "file_extension": ".py",
   "mimetype": "text/x-python",
   "name": "python",
   "nbconvert_exporter": "python",
   "pygments_lexer": "ipython3",
   "version": "3.12.4"
  }
 },
 "nbformat": 4,
 "nbformat_minor": 5
}
