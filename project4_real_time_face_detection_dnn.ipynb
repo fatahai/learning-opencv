{
 "cells": [
  {
   "cell_type": "markdown",
   "id": "aef4f62e-8bec-4ab7-bf21-5e9b2ac13ab8",
   "metadata": {},
   "source": [
    "# **Real-time Face Detection with DNN**"
   ]
  },
  {
   "cell_type": "code",
   "execution_count": 10,
   "id": "a363eb15-0dad-46f0-9935-4cc830243b88",
   "metadata": {},
   "outputs": [],
   "source": [
    "import numpy as np\n",
    "import cv2"
   ]
  },
  {
   "cell_type": "code",
   "execution_count": 11,
   "id": "90450455-cdcd-4e6d-818b-5363446874b2",
   "metadata": {},
   "outputs": [],
   "source": [
    "# Create function of face detection using DNN model\n",
    "def face_detection_dnn(img):\n",
    "    # Step-1: blob from image\n",
    "    blob = cv2.dnn.blobFromImage(img, 1, (300, 300), (104, 177, 123), swapRB=True)\n",
    "    \n",
    "    # Step-2: set blob as input\n",
    "    face_detect_model.setInput(blob)\n",
    "    \n",
    "    # Step-3: get the output\n",
    "    detection = face_detect_model.forward()\n",
    "    \n",
    "    # Step-4: draw bounding box on top of face detected\n",
    "    image = img.copy()\n",
    "    h, w = image.shape[:2]\n",
    "    for i in range(0, detection.shape[2]):\n",
    "        confidence = detection[0, 0, i, 2]\n",
    "        if confidence > 0.5:\n",
    "            # Diagonal points, index 3 - 6\n",
    "            box = detection[0, 0, i, 3:7]*np.array([w,h,w,h])\n",
    "            box = box.astype(\"int\")\n",
    "            start_point = (box[0], box[1])\n",
    "            end_point = (box[2], box[3])\n",
    "            # Draw rectangle\n",
    "            cv2.rectangle(image, start_point, end_point, (0, 255, 255), 1)\n",
    "            # Put text of confidence level\n",
    "            text = \"score : {:.0f}%\".format(confidence*100)\n",
    "            cv2.putText(image, text, start_point, cv2.FONT_HERSHEY_SIMPLEX, 1, (255, 255, 255), 2)\n",
    "    \n",
    "    return image"
   ]
  },
  {
   "cell_type": "code",
   "execution_count": 15,
   "id": "b6fb4f2b-2fa7-45f2-9144-09a5e8ffc8c0",
   "metadata": {},
   "outputs": [],
   "source": [
    "cap = cv2.VideoCapture(0)\n",
    "\n",
    "# Load DNN model for face detection\n",
    "# The model is from Caffe\n",
    "face_detect_model = cv2.dnn.readNetFromCaffe(\"Input/models/deploy.prototxt.txt\", \n",
    "                                             \"Input/models/res10_300x300_ssd_iter_140000_fp16.caffemodel\")\n",
    "while True:\n",
    "    ret, frame = cap.read()\n",
    "    if ret == False:\n",
    "        break\n",
    "    img_detect = face_detection_dnn(frame)\n",
    "    cv2.imshow(\"Real-time Face Detection with DNN\", img_detect)\n",
    "    if cv2.waitKey(1) == ord(\"a\"):\n",
    "        break\n",
    "\n",
    "cap.release()\n",
    "cv2.destroyAllWindows()"
   ]
  },
  {
   "cell_type": "code",
   "execution_count": 16,
   "id": "dcec7e60-2e2b-4cef-b8df-2686099cd494",
   "metadata": {},
   "outputs": [],
   "source": [
    "# Create function for display result of real-time detection with DNN\n",
    "def real_time_detection_dnn():\n",
    "    cap = cv2.VideoCapture(0)\n",
    "\n",
    "    # Load DNN model for face detection\n",
    "    # The model is from Caffe\n",
    "    face_detect_model = cv2.dnn.readNetFromCaffe(\"Input/models/deploy.prototxt.txt\", \n",
    "                                                 \"Input/models/res10_300x300_ssd_iter_140000_fp16.caffemodel\")\n",
    "    while True:\n",
    "        ret, frame = cap.read()\n",
    "        if ret == False:\n",
    "            break\n",
    "        img_detect = face_detection_dnn(frame)\n",
    "        cv2.imshow(\"Real-time Face Detection with DNN\", img_detect)\n",
    "        if cv2.waitKey(1) == ord(\"a\"):\n",
    "            break\n",
    "    \n",
    "    cap.release()\n",
    "    cv2.destroyAllWindows()"
   ]
  },
  {
   "cell_type": "code",
   "execution_count": 20,
   "id": "e90f26c3-5fdd-4aa0-8e74-4cde121873cd",
   "metadata": {},
   "outputs": [],
   "source": [
    "real_time_detection_dnn()"
   ]
  },
  {
   "cell_type": "markdown",
   "id": "0ec283da-22d1-460e-8f29-045ff7873b15",
   "metadata": {},
   "source": [
    "Face detection using DNN model is more accurate than Haarcascade Algorithm."
   ]
  }
 ],
 "metadata": {
  "kernelspec": {
   "display_name": "Python 3 (ipykernel)",
   "language": "python",
   "name": "python3"
  },
  "language_info": {
   "codemirror_mode": {
    "name": "ipython",
    "version": 3
   },
   "file_extension": ".py",
   "mimetype": "text/x-python",
   "name": "python",
   "nbconvert_exporter": "python",
   "pygments_lexer": "ipython3",
   "version": "3.12.4"
  }
 },
 "nbformat": 4,
 "nbformat_minor": 5
}
