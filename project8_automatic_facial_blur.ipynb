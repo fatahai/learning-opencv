{
 "cells": [
  {
   "cell_type": "markdown",
   "id": "9aa356d4-b28c-4f19-bcf5-edecc9e145b5",
   "metadata": {},
   "source": [
    "# **Automatic Facial Blur**"
   ]
  },
  {
   "cell_type": "code",
   "execution_count": 1,
   "id": "34a3f542-37ab-4652-b605-ab2c2b293664",
   "metadata": {},
   "outputs": [],
   "source": [
    "import numpy as np\n",
    "import cv2"
   ]
  },
  {
   "cell_type": "code",
   "execution_count": 3,
   "id": "2102717f-b91d-474b-a5b0-b49e2ac1b27f",
   "metadata": {},
   "outputs": [],
   "source": [
    "# Load image\n",
    "img = cv2.imread(\"Input/happy_parents.jpg\")\n",
    "\n",
    "cv2.imshow(\"original\", img)\n",
    "cv2.waitKey(0)\n",
    "cv2.destroyAllWindows()"
   ]
  },
  {
   "cell_type": "code",
   "execution_count": 4,
   "id": "b889a744-bb3c-4fba-ae1d-786637f012c9",
   "metadata": {},
   "outputs": [],
   "source": [
    "# Load the face detection model\n",
    "face_detect_model = cv2.dnn.readNetFromCaffe(\"Input/models2/deploy.prototxt.txt\", \"Input/models2/res10_300x300_ssd_iter_140000_fp16.caffemodel\")"
   ]
  },
  {
   "cell_type": "code",
   "execution_count": 23,
   "id": "74d83847-7075-4d93-a2c0-574f3397cb57",
   "metadata": {},
   "outputs": [],
   "source": [
    "image = img.copy()\n",
    "\n",
    "# Mask image\n",
    "face_mask = np.zeros(image.shape[:2], dtype=\"uint8\")\n",
    "\n",
    "# Blob from image\n",
    "blob = cv2.dnn.blobFromImage(image, 1, (300,300), (104,177,123), swapRB=True)\n",
    "face_detect_model.setInput(blob)\n",
    "detect = face_detect_model.forward()\n",
    "\n",
    "# Select faces using confidence score and get bounding box\n",
    "h, w = image.shape[:2]\n",
    "for i in range(detect.shape[2]):\n",
    "    confidence = detect[0,0,i,2]\n",
    "    if confidence > 0.5:\n",
    "        box = detect[0,0,i,3:7]*np.array([w,h,w,h])\n",
    "        box = box.astype(int)\n",
    "        cv2.rectangle(face_mask, (box[0], box[1]), (box[2], box[3]), 255, -1)\n",
    "\n",
    "# Inverse mask\n",
    "inv_face_mask = cv2.bitwise_not(face_mask)\n",
    "\n",
    "# Apply mask image to original image\n",
    "bg_img = cv2.bitwise_and(image, image, mask=face_mask)\n",
    "fg_img = cv2.bitwise_and(image, image, mask=inv_face_mask)\n",
    "\n",
    "# Blur bg_img with Gaussian blur\n",
    "bg_img_blur = cv2.GaussianBlur(bg_img, (51, 51), 0)\n",
    "\n",
    "# Addition operation\n",
    "face_blur = cv2.add(fg_img, bg_img_blur)\n",
    "\n",
    "cv2.imshow(\"face original\", image)\n",
    "cv2.imshow(\"face blur\", face_blur)\n",
    "cv2.waitKey(0)\n",
    "cv2.destroyAllWindows()"
   ]
  },
  {
   "cell_type": "code",
   "execution_count": 6,
   "id": "dae5530f-f2aa-4de6-b575-d115fdcf85ba",
   "metadata": {},
   "outputs": [
    {
     "data": {
      "text/plain": [
       "(1, 1, 200, 7)"
      ]
     },
     "execution_count": 6,
     "metadata": {},
     "output_type": "execute_result"
    }
   ],
   "source": [
    "detect.shape"
   ]
  },
  {
   "cell_type": "code",
   "execution_count": 24,
   "id": "f7d9fc1e-a310-4f01-996b-80296b0ba439",
   "metadata": {},
   "outputs": [],
   "source": [
    "# Create function\n",
    "\n",
    "def facial_blur(img, ksize):\n",
    "\n",
    "    image = img.copy()\n",
    "    \n",
    "    # Mask image\n",
    "    face_mask = np.zeros(image.shape[:2], dtype=\"uint8\")\n",
    "    \n",
    "    # Blob from image\n",
    "    blob = cv2.dnn.blobFromImage(image, 1, (300,300), (104,177,123), swapRB=True)\n",
    "    face_detect_model.setInput(blob)\n",
    "    detect = face_detect_model.forward()\n",
    "    \n",
    "    # Select faces using confidence score and get bounding box\n",
    "    h, w = image.shape[:2]\n",
    "    for i in range(detect.shape[2]):\n",
    "        confidence = detect[0,0,i,2]\n",
    "        if confidence > 0.5:\n",
    "            box = detect[0,0,i,3:7]*np.array([w,h,w,h])\n",
    "            box = box.astype(int)\n",
    "            cv2.rectangle(face_mask, (box[0], box[1]), (box[2], box[3]), 255, -1)\n",
    "    \n",
    "    # Inverse mask\n",
    "    inv_face_mask = cv2.bitwise_not(face_mask)\n",
    "    \n",
    "    # Apply mask image to original image\n",
    "    bg_img = cv2.bitwise_and(image, image, mask=face_mask)\n",
    "    fg_img = cv2.bitwise_and(image, image, mask=inv_face_mask)\n",
    "    \n",
    "    # Blur bg_img with Gaussian blur\n",
    "    bg_img_blur = cv2.GaussianBlur(bg_img, (ksize, ksize), 0)\n",
    "    \n",
    "    # Addition operation\n",
    "    face_blur = cv2.add(fg_img, bg_img_blur)\n",
    "\n",
    "    return face_blur"
   ]
  },
  {
   "cell_type": "code",
   "execution_count": 26,
   "id": "b1eaf84e-c8f1-41ea-96f3-4673e33b98dc",
   "metadata": {},
   "outputs": [],
   "source": [
    "faceblur = facial_blur(img, 51)\n",
    "\n",
    "cv2.imshow(\"face original\", image)\n",
    "cv2.imshow(\"face blur\", faceblur)\n",
    "cv2.waitKey(0)\n",
    "cv2.destroyAllWindows()"
   ]
  },
  {
   "cell_type": "code",
   "execution_count": 27,
   "id": "af621398-1186-43e1-b97c-32a28c6a469d",
   "metadata": {},
   "outputs": [
    {
     "data": {
      "text/plain": [
       "True"
      ]
     },
     "execution_count": 27,
     "metadata": {},
     "output_type": "execute_result"
    }
   ],
   "source": [
    "cv2.imwrite(\"Output/face blur.png\", faceblur)"
   ]
  },
  {
   "cell_type": "markdown",
   "id": "8c28b97c-6ea0-490d-85d2-9978503983aa",
   "metadata": {},
   "source": [
    "## Real-time Facial Blur"
   ]
  },
  {
   "cell_type": "code",
   "execution_count": 28,
   "id": "38c6c6bd-2474-4b0c-957d-252c547d78f4",
   "metadata": {},
   "outputs": [],
   "source": [
    "cap = cv2.VideoCapture(0)\n",
    "\n",
    "while True:\n",
    "    ret, frame = cap.read()\n",
    "\n",
    "    if ret == False:\n",
    "        break\n",
    "\n",
    "    blur_img = facial_blur(frame, 51)\n",
    "\n",
    "    cv2.imshow(\"original\", frame)\n",
    "    cv2.imshow(\"face blur\", blur_img)\n",
    "\n",
    "    if cv2.waitKey(1) == 27:\n",
    "        break\n",
    "\n",
    "cap.release()\n",
    "cv2.destroyAllWindows()"
   ]
  }
 ],
 "metadata": {
  "kernelspec": {
   "display_name": "Python 3 (ipykernel)",
   "language": "python",
   "name": "python3"
  },
  "language_info": {
   "codemirror_mode": {
    "name": "ipython",
    "version": 3
   },
   "file_extension": ".py",
   "mimetype": "text/x-python",
   "name": "python",
   "nbconvert_exporter": "python",
   "pygments_lexer": "ipython3",
   "version": "3.12.4"
  }
 },
 "nbformat": 4,
 "nbformat_minor": 5
}
