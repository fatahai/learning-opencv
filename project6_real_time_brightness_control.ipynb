{
 "cells": [
  {
   "cell_type": "markdown",
   "id": "2da4d934-e3a9-42cc-b803-5e8370034da6",
   "metadata": {},
   "source": [
    "# **Real-time Brightness Control**"
   ]
  },
  {
   "cell_type": "code",
   "execution_count": 1,
   "id": "982ec504-6d6a-4fe5-b59b-15f5a1318f02",
   "metadata": {},
   "outputs": [],
   "source": [
    "import numpy as np\n",
    "import cv2"
   ]
  },
  {
   "cell_type": "code",
   "execution_count": 2,
   "id": "92be1e82-9321-4a41-9cc1-c4e32029e825",
   "metadata": {},
   "outputs": [],
   "source": [
    "def brightness_control(image, bright):\n",
    "    bar = bright - 127\n",
    "\n",
    "    if bar >= 0:\n",
    "        value = np.ones_like(image, dtype=\"uint8\")*bright\n",
    "        img_ctrl = cv2.add(image, value)\n",
    "\n",
    "    else:\n",
    "        bright = 127 - bright\n",
    "        value = np.ones_like(image, dtype=\"uint8\")*bright\n",
    "        img_ctrl = cv2.subtract(image, value)\n",
    "\n",
    "    return img_ctrl"
   ]
  },
  {
   "cell_type": "code",
   "execution_count": 3,
   "id": "67e8e596-8ade-4321-aa35-f1b425cf5012",
   "metadata": {},
   "outputs": [],
   "source": [
    "def nothing(x):\n",
    "    pass"
   ]
  },
  {
   "cell_type": "code",
   "execution_count": 5,
   "id": "9918b63b-e253-47bb-856a-a55840727374",
   "metadata": {},
   "outputs": [],
   "source": [
    "cap = cv2.VideoCapture(\"Input/clip.mp4\")\n",
    "cv2.namedWindow(\"Brightness Control\")\n",
    "bright = cv2.createTrackbar(\"Brightness\", \"Brightness Control\",75, 255, nothing)\n",
    "value = np.ones_like(cap, dtype=\"uint8\")\n",
    "\n",
    "while True:\n",
    "    ret, frame = cap.read()\n",
    "    if ret == False:\n",
    "        break\n",
    "\n",
    "    bright = cv2.getTrackbarPos(\"Brightness\", \"Brightness Control\")\n",
    "    img_ctrl = brightness_control(frame, bright)\n",
    "    cv2.imshow(\"Brightness Control\", img_ctrl)\n",
    "    if cv2.waitKey(20) == 27:\n",
    "        break\n",
    "\n",
    "cv2.destroyAllWindows()\n",
    "cap.release()"
   ]
  }
 ],
 "metadata": {
  "kernelspec": {
   "display_name": "Python 3 (ipykernel)",
   "language": "python",
   "name": "python3"
  },
  "language_info": {
   "codemirror_mode": {
    "name": "ipython",
    "version": 3
   },
   "file_extension": ".py",
   "mimetype": "text/x-python",
   "name": "python",
   "nbconvert_exporter": "python",
   "pygments_lexer": "ipython3",
   "version": "3.12.4"
  }
 },
 "nbformat": 4,
 "nbformat_minor": 5
}
