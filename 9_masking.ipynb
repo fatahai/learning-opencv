{
 "cells": [
  {
   "cell_type": "markdown",
   "id": "981c8c57-19e8-4181-bf30-a7657a0600cf",
   "metadata": {},
   "source": [
    "# **Masking**"
   ]
  },
  {
   "cell_type": "code",
   "execution_count": 1,
   "id": "e4eb44bc-f55b-47eb-b9cc-cd32f1040608",
   "metadata": {},
   "outputs": [],
   "source": [
    "import numpy as np\n",
    "import cv2"
   ]
  },
  {
   "cell_type": "code",
   "execution_count": 2,
   "id": "15a4b06b-7931-4e45-9b02-da8c862654c7",
   "metadata": {},
   "outputs": [],
   "source": [
    "img = cv2.imread(\"Input/beach.jpg\")\n",
    "\n",
    "cv2.imshow(\"beach\", img)\n",
    "cv2.waitKey(0)\n",
    "cv2.destroyAllWindows()"
   ]
  },
  {
   "cell_type": "code",
   "execution_count": 3,
   "id": "5a25d391-c54b-4af4-89da-dde7a0bad1e2",
   "metadata": {},
   "outputs": [],
   "source": [
    "mask = np.zeros(img.shape[:2], dtype=\"uint8\")\n",
    "\n",
    "cv2.imshow(\"mask\", mask)\n",
    "cv2.waitKey(0)\n",
    "cv2.destroyAllWindows()"
   ]
  },
  {
   "cell_type": "code",
   "execution_count": 6,
   "id": "42634c37-bd95-4f13-bbf9-febea19bb7e7",
   "metadata": {},
   "outputs": [],
   "source": [
    "center_x, center_y = mask.shape[1]//2, mask.shape[0]//2\n",
    "\n",
    "cv2.rectangle(mask, (center_x-200,center_y-200), (center_x+200,center_y+200), 255, -1)\n",
    "\n",
    "cv2.imshow(\"mask\", mask)\n",
    "cv2.waitKey(0)\n",
    "cv2.destroyAllWindows()"
   ]
  },
  {
   "cell_type": "code",
   "execution_count": 7,
   "id": "d9e2d54f-4e9c-4567-ab61-104bc740c465",
   "metadata": {},
   "outputs": [],
   "source": [
    "img_mask = cv2.bitwise_and(img, img, mask=mask)\n",
    "\n",
    "cv2.imshow(\"original\", img)\n",
    "cv2.imshow(\"masking\", img_mask)\n",
    "cv2.waitKey(0)\n",
    "cv2.destroyAllWindows()"
   ]
  },
  {
   "cell_type": "code",
   "execution_count": 8,
   "id": "357d0c10-a371-40ff-9491-fc4568023f10",
   "metadata": {},
   "outputs": [],
   "source": [
    "# mask not\n",
    "mask_not = cv2.bitwise_not(mask)\n",
    "\n",
    "cv2.imshow(\"mask not\", mask_not)\n",
    "cv2.waitKey(0)\n",
    "cv2.destroyAllWindows()"
   ]
  },
  {
   "cell_type": "code",
   "execution_count": 9,
   "id": "993705c7-3438-4563-9019-d661d70fc059",
   "metadata": {},
   "outputs": [],
   "source": [
    "img_mask_not = cv2.bitwise_and(img, img, mask=mask_not)\n",
    "\n",
    "cv2.imshow(\"original\", img)\n",
    "cv2.imshow(\"masking not\", img_mask_not)\n",
    "cv2.waitKey(0)\n",
    "cv2.destroyAllWindows()"
   ]
  },
  {
   "cell_type": "code",
   "execution_count": 12,
   "id": "e0b2113f-7ce7-46f2-9227-48012e10473f",
   "metadata": {},
   "outputs": [],
   "source": [
    "# masking circle shape\n",
    "mask_c = np.zeros(img.shape[:2], dtype=\"uint8\")\n",
    "\n",
    "center_x, center_y = mask_c.shape[1]//2, mask_c.shape[0]//2\n",
    "\n",
    "cv2.circle(mask_c, (center_x,center_y), 200, 255, -1)\n",
    "\n",
    "cv2.imshow(\"mask\", mask_c)\n",
    "cv2.waitKey(0)\n",
    "cv2.destroyAllWindows()"
   ]
  },
  {
   "cell_type": "code",
   "execution_count": 13,
   "id": "5479f25f-7f5e-4dcc-b57e-4ce8fb2cf89c",
   "metadata": {},
   "outputs": [],
   "source": [
    "img_mask = cv2.bitwise_and(img, img, mask=mask_c)\n",
    "\n",
    "cv2.imshow(\"original\", img)\n",
    "cv2.imshow(\"masking\", img_mask)\n",
    "cv2.waitKey(0)\n",
    "cv2.destroyAllWindows()"
   ]
  }
 ],
 "metadata": {
  "kernelspec": {
   "display_name": "Python 3 (ipykernel)",
   "language": "python",
   "name": "python3"
  },
  "language_info": {
   "codemirror_mode": {
    "name": "ipython",
    "version": 3
   },
   "file_extension": ".py",
   "mimetype": "text/x-python",
   "name": "python",
   "nbconvert_exporter": "python",
   "pygments_lexer": "ipython3",
   "version": "3.12.4"
  }
 },
 "nbformat": 4,
 "nbformat_minor": 5
}
