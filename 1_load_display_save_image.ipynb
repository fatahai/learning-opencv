{
 "cells": [
  {
   "cell_type": "markdown",
   "id": "e2432b5c-caa7-426e-9527-ac0439af7c21",
   "metadata": {},
   "source": [
    "# **Load, Display, and Save Image**"
   ]
  },
  {
   "cell_type": "markdown",
   "id": "eafe2fe9-2af7-4d41-ae66-fb575221c1f0",
   "metadata": {},
   "source": [
    "## Load Image"
   ]
  },
  {
   "cell_type": "code",
   "execution_count": 1,
   "id": "31d0d090-1878-4bd9-91b9-5344ab0311d3",
   "metadata": {},
   "outputs": [],
   "source": [
    "# I have installed OpenCV library and CUDA in this device\n",
    "import numpy as np\n",
    "import cv2\n",
    "from cv2 import cuda"
   ]
  },
  {
   "cell_type": "code",
   "execution_count": 2,
   "id": "35ae0a6c-e0b3-40ac-857b-c1c06ce3d739",
   "metadata": {},
   "outputs": [
    {
     "name": "stdout",
     "output_type": "stream",
     "text": [
      "\n",
      "General configuration for OpenCV 4.10.0 =====================================\n",
      "  Version control:               unknown\n",
      "\n",
      "  Extra modules:\n",
      "    Location (extra):            C:/OpenCV/opencv_contrib-4.10.0/modules\n",
      "    Version control (extra):     unknown\n",
      "\n",
      "  Platform:\n",
      "    Timestamp:                   2024-08-22T04:50:02Z\n",
      "    Host:                        Windows 10.0.19045 AMD64\n",
      "    CMake:                       3.30.2\n",
      "    CMake generator:             Visual Studio 17 2022\n",
      "    CMake build tool:            C:/Program Files/Microsoft Visual Studio/2022/Community/MSBuild/Current/Bin/amd64/MSBuild.exe\n",
      "    MSVC:                        1941\n",
      "    Configuration:               Release\n",
      "\n",
      "  CPU/HW features:\n",
      "    Baseline:                    SSE SSE2 SSE3\n",
      "      requested:                 SSE3\n",
      "    Dispatched code generation:  SSE4_1 SSE4_2 FP16 AVX AVX2 AVX512_SKX\n",
      "      requested:                 SSE4_1 SSE4_2 AVX FP16 AVX2 AVX512_SKX\n",
      "      SSE4_1 (18 files):         + SSSE3 SSE4_1\n",
      "      SSE4_2 (2 files):          + SSSE3 SSE4_1 POPCNT SSE4_2\n",
      "      FP16 (1 files):            + SSSE3 SSE4_1 POPCNT SSE4_2 FP16 AVX\n",
      "      AVX (9 files):             + SSSE3 SSE4_1 POPCNT SSE4_2 AVX\n",
      "      AVX2 (38 files):           + SSSE3 SSE4_1 POPCNT SSE4_2 FP16 FMA3 AVX AVX2\n",
      "      AVX512_SKX (8 files):      + SSSE3 SSE4_1 POPCNT SSE4_2 FP16 FMA3 AVX AVX2 AVX_512F AVX512_COMMON AVX512_SKX\n",
      "\n",
      "  C/C++:\n",
      "    Built as dynamic libs?:      YES\n",
      "    C++ standard:                11\n",
      "    C++ Compiler:                C:/Program Files/Microsoft Visual Studio/2022/Community/VC/Tools/MSVC/14.41.34120/bin/Hostx64/x64/cl.exe  (ver 19.41.34120.0)\n",
      "    C++ flags (Release):         /DWIN32 /D_WINDOWS /W4 /GR  /D _CRT_SECURE_NO_DEPRECATE /D _CRT_NONSTDC_NO_DEPRECATE /D _SCL_SECURE_NO_WARNINGS /Gy /bigobj /Oi  /fp:fast     /EHa /wd4127 /wd4251 /wd4324 /wd4275 /wd4512 /wd4589 /wd4819 /MP  /O2 /Ob2 /DNDEBUG \n",
      "    C++ flags (Debug):           /DWIN32 /D_WINDOWS /W4 /GR  /D _CRT_SECURE_NO_DEPRECATE /D _CRT_NONSTDC_NO_DEPRECATE /D _SCL_SECURE_NO_WARNINGS /Gy /bigobj /Oi  /fp:fast     /EHa /wd4127 /wd4251 /wd4324 /wd4275 /wd4512 /wd4589 /wd4819 /MP  /Zi /Ob0 /Od /RTC1 \n",
      "    C Compiler:                  C:/Program Files/Microsoft Visual Studio/2022/Community/VC/Tools/MSVC/14.41.34120/bin/Hostx64/x64/cl.exe\n",
      "    C flags (Release):           /DWIN32 /D_WINDOWS /W3  /D _CRT_SECURE_NO_DEPRECATE /D _CRT_NONSTDC_NO_DEPRECATE /D _SCL_SECURE_NO_WARNINGS /Gy /bigobj /Oi  /fp:fast     /MP   /O2 /Ob2 /DNDEBUG \n",
      "    C flags (Debug):             /DWIN32 /D_WINDOWS /W3  /D _CRT_SECURE_NO_DEPRECATE /D _CRT_NONSTDC_NO_DEPRECATE /D _SCL_SECURE_NO_WARNINGS /Gy /bigobj /Oi  /fp:fast     /MP /Zi /Ob0 /Od /RTC1 \n",
      "    Linker flags (Release):      /machine:x64  /INCREMENTAL:NO \n",
      "    Linker flags (Debug):        /machine:x64  /debug /INCREMENTAL \n",
      "    ccache:                      NO\n",
      "    Precompiled headers:         NO\n",
      "    Extra dependencies:          cudart_static.lib nppc.lib nppial.lib nppicc.lib nppidei.lib nppif.lib nppig.lib nppim.lib nppist.lib nppisu.lib nppitc.lib npps.lib cublas.lib cudnn.lib cufft.lib -LIBPATH:C:/Program Files/NVIDIA GPU Computing Toolkit/CUDA/v12.6/lib/x64\n",
      "    3rdparty dependencies:\n",
      "\n",
      "  OpenCV modules:\n",
      "    To be built:                 aruco bgsegm bioinspired calib3d ccalib core cudaarithm cudabgsegm cudacodec cudafeatures2d cudafilters cudaimgproc cudalegacy cudaobjdetect cudaoptflow cudastereo cudawarping cudev datasets dnn dnn_objdetect dnn_superres dpm face features2d flann fuzzy gapi hfs highgui img_hash imgcodecs imgproc intensity_transform line_descriptor mcc ml objdetect optflow phase_unwrapping photo plot python3 quality rapid reg rgbd saliency shape signal stereo stitching structured_light superres surface_matching text tracking ts video videoio videostab wechat_qrcode world xfeatures2d ximgproc xobjdetect xphoto\n",
      "    Disabled:                    -\n",
      "    Disabled by dependency:      -\n",
      "    Unavailable:                 alphamat cannops cvv freetype hdf java julia matlab ovis python2 python2 sfm viz\n",
      "    Applications:                tests perf_tests apps\n",
      "    Documentation:               NO\n",
      "    Non-free algorithms:         NO\n",
      "\n",
      "  Windows RT support:            NO\n",
      "\n",
      "  GUI: \n",
      "    Win32 UI:                    YES\n",
      "    VTK support:                 NO\n",
      "\n",
      "  Media I/O: \n",
      "    ZLib:                        build (ver 1.3.1)\n",
      "    JPEG:                        build-libjpeg-turbo (ver 3.0.3-70)\n",
      "      SIMD Support Request:      YES\n",
      "      SIMD Support:              NO\n",
      "    WEBP:                        build (ver encoder: 0x020f)\n",
      "    PNG:                         build (ver 1.6.43)\n",
      "      SIMD Support Request:      YES\n",
      "      SIMD Support:              YES (Intel SSE)\n",
      "    TIFF:                        build (ver 42 - 4.6.0)\n",
      "    JPEG 2000:                   build (ver 2.5.0)\n",
      "    OpenEXR:                     build (ver 2.3.0)\n",
      "    HDR:                         YES\n",
      "    SUNRASTER:                   YES\n",
      "    PXM:                         YES\n",
      "    PFM:                         YES\n",
      "\n",
      "  Video I/O:\n",
      "    DC1394:                      NO\n",
      "    FFMPEG:                      YES (prebuilt binaries)\n",
      "      avcodec:                   YES (58.134.100)\n",
      "      avformat:                  YES (58.76.100)\n",
      "      avutil:                    YES (56.70.100)\n",
      "      swscale:                   YES (5.9.100)\n",
      "      avresample:                YES (4.0.0)\n",
      "    GStreamer:                   NO\n",
      "    DirectShow:                  YES\n",
      "    Media Foundation:            YES\n",
      "      DXVA:                      YES\n",
      "\n",
      "  Parallel framework:            Concurrency\n",
      "\n",
      "  Trace:                         YES (with Intel ITT)\n",
      "\n",
      "  Other third-party libraries:\n",
      "    Intel IPP:                   2021.11.0 [2021.11.0]\n",
      "           at:                   C:/OpenCV/build/3rdparty/ippicv/ippicv_win/icv\n",
      "    Intel IPP IW:                sources (2021.11.0)\n",
      "              at:                C:/OpenCV/build/3rdparty/ippicv/ippicv_win/iw\n",
      "    Lapack:                      NO\n",
      "    Eigen:                       NO\n",
      "    Custom HAL:                  NO\n",
      "    Protobuf:                    build (3.19.1)\n",
      "    Flatbuffers:                 builtin/3rdparty (23.5.9)\n",
      "\n",
      "  NVIDIA CUDA:                   YES (ver 12.6, CUFFT CUBLAS FAST_MATH)\n",
      "    NVIDIA GPU arch:             61\n",
      "    NVIDIA PTX archs:            90\n",
      "\n",
      "  cuDNN:                         YES (ver 9.3.0)\n",
      "\n",
      "  OpenCL:                        YES (NVD3D11)\n",
      "    Include path:                C:/OpenCV/opencv-4.10.0/3rdparty/include/opencl/1.2\n",
      "    Link libraries:              Dynamic load\n",
      "\n",
      "  Python 3:\n",
      "    Interpreter:                 C:/Anaconda/envs/pytorchenv/python.exe (ver 3.12.4)\n",
      "    Libraries:                   C:/Anaconda/libs/python312.lib (ver 3.12.4)\n",
      "    Limited API:                 NO\n",
      "    numpy:                       C:/Anaconda/envs/pytorchenv/Lib/site-packages/numpy/core/include (ver 1.26.4)\n",
      "    install path:                C:/Anaconda/envs/pytorchenv/Lib/site-packages/cv2/python-3.12\n",
      "\n",
      "  Python (for build):            C:/Anaconda/envs/pytorchenv/python.exe\n",
      "\n",
      "  Java:                          \n",
      "    ant:                         NO\n",
      "    Java:                        NO\n",
      "    JNI:                         NO\n",
      "    Java wrappers:               NO\n",
      "    Java tests:                  NO\n",
      "\n",
      "  Install to:                    C:/OpenCV/build/install\n",
      "-----------------------------------------------------------------\n",
      "\n",
      "\n"
     ]
    }
   ],
   "source": [
    "# Showing information of OpenCV library used\n",
    "# Since I have installed CUDA, it should appear in this information\n",
    "print(cv2.getBuildInformation())"
   ]
  },
  {
   "cell_type": "code",
   "execution_count": 3,
   "id": "718981f9-7806-4dbc-b1dc-12bfdd002b2d",
   "metadata": {},
   "outputs": [],
   "source": [
    "# Read or load the image\n",
    "img_bird = cv2.imread(\"Input/bird.jpg\")"
   ]
  },
  {
   "cell_type": "code",
   "execution_count": 4,
   "id": "78707cb9-0090-4987-b6cc-cfa82f7527f4",
   "metadata": {},
   "outputs": [
    {
     "name": "stdout",
     "output_type": "stream",
     "text": [
      "[[[ 88 188 253]\n",
      "  [ 88 188 253]\n",
      "  [ 88 188 253]\n",
      "  ...\n",
      "  [ 45 137 214]\n",
      "  [ 45 137 214]\n",
      "  [ 44 136 213]]\n",
      "\n",
      " [[ 88 188 253]\n",
      "  [ 88 188 253]\n",
      "  [ 88 188 253]\n",
      "  ...\n",
      "  [ 45 137 214]\n",
      "  [ 45 137 214]\n",
      "  [ 45 137 214]]\n",
      "\n",
      " [[ 88 188 253]\n",
      "  [ 88 188 253]\n",
      "  [ 88 188 253]\n",
      "  ...\n",
      "  [ 46 138 215]\n",
      "  [ 45 137 214]\n",
      "  [ 45 137 214]]\n",
      "\n",
      " ...\n",
      "\n",
      " [[ 73 170 226]\n",
      "  [ 72 169 225]\n",
      "  [ 70 170 225]\n",
      "  ...\n",
      "  [  1  36  50]\n",
      "  [ 29  77  95]\n",
      "  [ 67 120 140]]\n",
      "\n",
      " [[ 73 170 226]\n",
      "  [ 73 170 226]\n",
      "  [ 70 170 225]\n",
      "  ...\n",
      "  [  0  32  46]\n",
      "  [ 11  61  81]\n",
      "  [ 29  83 106]]\n",
      "\n",
      " [[ 75 172 228]\n",
      "  [ 73 170 226]\n",
      "  [ 72 170 224]\n",
      "  ...\n",
      "  [  0  33  50]\n",
      "  [  2  51  77]\n",
      "  [ 94 148 178]]]\n"
     ]
    }
   ],
   "source": [
    "# Print the image as 3 dimentional matrix\n",
    "print(img_bird)"
   ]
  },
  {
   "cell_type": "code",
   "execution_count": 5,
   "id": "e49ef426-c0d9-4a46-8bcd-0950f0810ab8",
   "metadata": {},
   "outputs": [
    {
     "name": "stdout",
     "output_type": "stream",
     "text": [
      "(681, 640, 3)\n"
     ]
    }
   ],
   "source": [
    "# Print image shape\n",
    "# This shows the resolution and number of image channels\n",
    "print(img_bird.shape)"
   ]
  },
  {
   "cell_type": "markdown",
   "id": "6e1295a8-4920-46be-85a8-df81e2e885bd",
   "metadata": {},
   "source": [
    "(681, 640, 3) indicates (height (H), width (W), number of channels (C)). H x W is usually called image resolution, while C = 3 represents RGB, but in OpenCV the loaded image is in **BGR** format."
   ]
  },
  {
   "cell_type": "code",
   "execution_count": 6,
   "id": "9414406c-8a7f-4118-8925-b1903ca84005",
   "metadata": {},
   "outputs": [],
   "source": [
    "# Showing the image\n",
    "cv2.imshow(\"Bird\", img_bird)\n",
    "cv2.waitKey(5000) # Show the image for 5000 ms or 5 s and then close it\n",
    "cv2.destroyAllWindows() # This function must be present if using the cv2.waitKey function to display a temporary image"
   ]
  },
  {
   "cell_type": "code",
   "execution_count": 13,
   "id": "51f8eb4d-888b-42d9-8a6d-3602a11428de",
   "metadata": {},
   "outputs": [],
   "source": [
    "# Showing the image\n",
    "cv2.imshow(\"Bird\", img_bird)\n",
    "cv2.waitKey(0) # Show the image until you close escape/exit button\n",
    "cv2.destroyAllWindows() # This function must be present if using the cv2.waitKey function to display a temporary image"
   ]
  },
  {
   "cell_type": "markdown",
   "id": "da1d9ebe-b704-483c-8433-7892e9899d9d",
   "metadata": {},
   "source": [
    "## Save Image"
   ]
  },
  {
   "cell_type": "code",
   "execution_count": 8,
   "id": "caa95f62-044e-47ac-8535-edebc524024d",
   "metadata": {},
   "outputs": [
    {
     "data": {
      "text/plain": [
       "True"
      ]
     },
     "execution_count": 8,
     "metadata": {},
     "output_type": "execute_result"
    }
   ],
   "source": [
    "# save image with different extension (jpg to png)\n",
    "cv2.imwrite(\"Output/bird.png\", img_bird)"
   ]
  },
  {
   "cell_type": "markdown",
   "id": "2c6aef50-372e-444d-b2ad-5c78161f377d",
   "metadata": {},
   "source": [
    "## Try using CUDA and Compare Processing Speed with CPU"
   ]
  },
  {
   "cell_type": "code",
   "execution_count": 11,
   "id": "6a2c7b26-a0d4-4a77-8b2b-4256be30a9f5",
   "metadata": {},
   "outputs": [],
   "source": [
    "# Load and convert image to grayscale using CUDA\n",
    "\n",
    "# Read image\n",
    "img_flm = cv2.imread(\"Input/mugiwara pirate.jpg\")\n",
    "\n",
    "# Upload image to GPU memory\n",
    "gpu_img = cv2.cuda_GpuMat()\n",
    "gpu_img.upload(img_flm)\n",
    "\n",
    "# Use CUDA to convert the image to grayscale\n",
    "gpu_gray = cuda.cvtColor(gpu_img, cv2.COLOR_BGR2GRAY)\n",
    "\n",
    "# Download the result back to CPU\n",
    "result = gpu_gray.download()\n",
    "\n",
    "# Show the result in separate window\n",
    "cv2.imshow(\"Grayscale Flamengo\", result)\n",
    "cv2.waitKey(0)\n",
    "cv2.destroyAllWindows()"
   ]
  },
  {
   "cell_type": "code",
   "execution_count": 12,
   "id": "8ae75ac5-20e6-4e86-90a3-0939263573af",
   "metadata": {},
   "outputs": [
    {
     "name": "stdout",
     "output_type": "stream",
     "text": [
      "CPU time to convert BGR to grayscale: 0.0070 s\n",
      "CUDA time to convert BGR to grayscale: 0.0133 s\n"
     ]
    }
   ],
   "source": [
    "# Processing Speed Comparison between CPU and GPU\n",
    "import time\n",
    "\n",
    "# Read image\n",
    "img = cv2.imread(\"Input/factory.JPG\")\n",
    "\n",
    "# Measure CPU time\n",
    "start_cpu = time.time()\n",
    "gray_cpu = cv2.cvtColor(img, cv2.COLOR_BGR2GRAY)\n",
    "end_cpu = time.time()\n",
    "print(f\"CPU time to convert BGR to grayscale: {end_cpu - start_cpu:.4f} s\")\n",
    "\n",
    "# -------------------------------------------------------------------------\n",
    "\n",
    "# Upload image to GPU first\n",
    "gpu_img = cv2.cuda_GpuMat()\n",
    "gpu_img.upload(img)\n",
    "\n",
    "# Measure GPU time\n",
    "start_cuda = time.time()\n",
    "gpu_gray = cuda.cvtColor(gpu_img, cv2.COLOR_BGR2GRAY)\n",
    "end_cuda = time.time()\n",
    "result = gpu_gray.download()\n",
    "print(f\"CUDA time to convert BGR to grayscale: {end_cuda - start_cuda:.4f} s\")"
   ]
  },
  {
   "cell_type": "markdown",
   "id": "a1d0da06-055f-4b1c-a3af-ca3705538f77",
   "metadata": {},
   "source": [
    "**Why is GPU slower than CPU in this task?**\n",
    "\n",
    "The GPU is usually faster for parallel tasks, but there are a few reasons why it's slower than the CPU for converting an image from BGR to grayscale:\n",
    "\n",
    "1. **Data Transfer Overhead**: Moving data from the computer’s main memory (RAM) to the GPU's memory (VRAM) takes extra time. For small tasks like BGR to grayscale conversion, this transfer time is significant, even though the processing itself is fast.\n",
    "   - **Solution**: Use the GPU for bigger or more complex tasks where data transfer is balanced by faster processing.\n",
    "\n",
    "2. **Small Data Size**: Converting BGR to grayscale is a simple task, and it doesn’t take advantage of the GPU's ability to do many operations in parallel. For small tasks, the CPU is often faster.\n",
    "   - **Solution**: Use GPU for larger tasks like batch processing, deep learning, or image filtering.\n",
    "\n",
    "3. **GPU Initialization Time**: The first time you use the GPU, there is some extra time to set up and allocate memory. This setup time makes small tasks slower.\n",
    "   - **Solution**: Run multiple GPU tasks together, so the setup time is less noticeable.\n",
    "\n",
    "4. **Parallelism vs Task Size**: The GPU is designed for parallel processing. If the task isn’t large enough to benefit from this, the CPU’s high clock speed is more efficient.\n",
    "   - **Solution**: Use the GPU for tasks that need a lot of parallel processing, like image segmentation or deep learning.\n",
    "\n",
    "5. **CUDA Overhead**: Some tasks like `cvtColor` may not be fully optimized for GPU use and could be faster on the CPU.\n",
    "   - **Solution**: Try more complex operations or process multiple images at once to better utilize the GPU.\n",
    "\n",
    "**Conclusion:**\n",
    "For small tasks like BGR to grayscale conversion, the GPU can be slower due to data transfer and setup time. The GPU works best for large, parallel tasks where it can really show its power."
   ]
  }
 ],
 "metadata": {
  "kernelspec": {
   "display_name": "Python 3 (ipykernel)",
   "language": "python",
   "name": "python3"
  },
  "language_info": {
   "codemirror_mode": {
    "name": "ipython",
    "version": 3
   },
   "file_extension": ".py",
   "mimetype": "text/x-python",
   "name": "python",
   "nbconvert_exporter": "python",
   "pygments_lexer": "ipython3",
   "version": "3.12.4"
  }
 },
 "nbformat": 4,
 "nbformat_minor": 5
}
