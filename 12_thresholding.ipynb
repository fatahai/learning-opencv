{
 "cells": [
  {
   "cell_type": "markdown",
   "id": "ba56bc76-afcc-46f0-8236-5d72d4c5ed49",
   "metadata": {},
   "source": [
    "# **Thresholding**"
   ]
  },
  {
   "cell_type": "code",
   "execution_count": 1,
   "id": "0b2d119b-b871-4e5a-9594-e3820bf42780",
   "metadata": {},
   "outputs": [],
   "source": [
    "import cv2\n",
    "import numpy as np"
   ]
  },
  {
   "cell_type": "code",
   "execution_count": 2,
   "id": "834f2b84-9be1-4541-8e64-827ce73b980f",
   "metadata": {},
   "outputs": [],
   "source": [
    "img = cv2.imread(\"Input/sample page.PNG\")\n",
    "\n",
    "cv2.imshow(\"page\", img)\n",
    "cv2.waitKey(0)\n",
    "cv2.destroyAllWindows()"
   ]
  },
  {
   "cell_type": "code",
   "execution_count": 3,
   "id": "fb3b1c0e-6f14-4ffb-9286-51ebd2b6ead4",
   "metadata": {},
   "outputs": [],
   "source": [
    "# convert image to gray scale\n",
    "gray = cv2.cvtColor(img, cv2.COLOR_BGR2GRAY)"
   ]
  },
  {
   "cell_type": "markdown",
   "id": "f3b07cb7-94f8-4bbf-98f1-04af11d924be",
   "metadata": {},
   "source": [
    "## Simple Thresholding\n",
    "\n",
    "- BINARY\n",
    "- BINARY_INV\n",
    "- TOZERO\n",
    "- TOZERO_INV\n",
    "- TRUNC"
   ]
  },
  {
   "cell_type": "code",
   "execution_count": 16,
   "id": "8b7def58-36f0-4f07-8745-f383758c2ee7",
   "metadata": {},
   "outputs": [],
   "source": [
    "# BINARY thresholding\n",
    "retval_1, thresh_img = cv2.threshold(gray, 90, 225, cv2.THRESH_BINARY)\n",
    "\n",
    "# BINARY_INV thresholding\n",
    "retval_2, thresh_img2 = cv2.threshold(gray, 90, 225, cv2.THRESH_BINARY_INV)\n",
    "\n",
    "# TOZERO thresholding\n",
    "retval_3, thresh_img3 = cv2.threshold(gray, 90, 225, cv2.THRESH_TOZERO)\n",
    "\n",
    "# TOZERO_INV thresholding\n",
    "retval_4, thresh_img4 = cv2.threshold(gray, 90, 225, cv2.THRESH_TOZERO_INV)\n",
    "\n",
    "# TRUNC thresholding\n",
    "retval_5, thresh_img5 = cv2.threshold(gray, 90, 225, cv2.THRESH_TRUNC)"
   ]
  },
  {
   "cell_type": "code",
   "execution_count": 9,
   "id": "c65c92e2-aabb-4f31-a163-6f6f7010a30b",
   "metadata": {},
   "outputs": [
    {
     "data": {
      "text/plain": [
       "90.0"
      ]
     },
     "execution_count": 9,
     "metadata": {},
     "output_type": "execute_result"
    }
   ],
   "source": [
    "retval_1"
   ]
  },
  {
   "cell_type": "code",
   "execution_count": 10,
   "id": "162cc82f-ea6a-4b0a-8f49-2a8874478917",
   "metadata": {},
   "outputs": [
    {
     "data": {
      "text/plain": [
       "array([[0, 0, 0, ..., 0, 0, 0],\n",
       "       [0, 0, 0, ..., 0, 0, 0],\n",
       "       [0, 0, 0, ..., 0, 0, 0],\n",
       "       ...,\n",
       "       [0, 0, 0, ..., 0, 0, 0],\n",
       "       [0, 0, 0, ..., 0, 0, 0],\n",
       "       [0, 0, 0, ..., 0, 0, 0]], dtype=uint8)"
      ]
     },
     "execution_count": 10,
     "metadata": {},
     "output_type": "execute_result"
    }
   ],
   "source": [
    "thresh_img"
   ]
  },
  {
   "cell_type": "code",
   "execution_count": 17,
   "id": "63a28055-b2ea-40cc-8956-5fea9056f335",
   "metadata": {},
   "outputs": [],
   "source": [
    "cv2.imshow(\"page\", img)\n",
    "cv2.imshow(\"binary threshold\", thresh_img)\n",
    "cv2.imshow(\"binary_inv threshold\", thresh_img2)\n",
    "cv2.imshow(\"tozero threshold\", thresh_img3)\n",
    "cv2.imshow(\"tozero_inv threshold\", thresh_img4)\n",
    "cv2.imshow(\"trunc threshold\", thresh_img5)\n",
    "cv2.waitKey(0)\n",
    "cv2.destroyAllWindows()"
   ]
  },
  {
   "cell_type": "markdown",
   "id": "5f0d6422-7908-4f39-8a06-64ac2aa28b90",
   "metadata": {},
   "source": [
    "## Adaptive Thresholding\n",
    "\n",
    "- Average\n",
    "- Weighted Average (Gaussian)"
   ]
  },
  {
   "cell_type": "code",
   "execution_count": 25,
   "id": "c135731e-c8a5-4407-9104-c8769e02a4a3",
   "metadata": {},
   "outputs": [],
   "source": [
    "# Average thresholding\n",
    "adap_avg = cv2.adaptiveThreshold(gray, 255, cv2.ADAPTIVE_THRESH_MEAN_C, cv2.THRESH_BINARY, 11, 3)\n",
    "\n",
    "# Gaussian thresholding\n",
    "adap_gaus = cv2.adaptiveThreshold(gray, 255, cv2.ADAPTIVE_THRESH_GAUSSIAN_C, cv2.THRESH_BINARY, 11, 3)"
   ]
  },
  {
   "cell_type": "code",
   "execution_count": 26,
   "id": "095134a4-3235-425e-b5d1-ad0cba5339d6",
   "metadata": {},
   "outputs": [],
   "source": [
    "cv2.imshow(\"gray\", gray)\n",
    "cv2.imshow(\"average thresholding\", adap_avg)\n",
    "cv2.imshow(\"gaussian thresholding\", adap_gaus)\n",
    "cv2.waitKey(0)\n",
    "cv2.destroyAllWindows()"
   ]
  }
 ],
 "metadata": {
  "kernelspec": {
   "display_name": "Python 3 (ipykernel)",
   "language": "python",
   "name": "python3"
  },
  "language_info": {
   "codemirror_mode": {
    "name": "ipython",
    "version": 3
   },
   "file_extension": ".py",
   "mimetype": "text/x-python",
   "name": "python",
   "nbconvert_exporter": "python",
   "pygments_lexer": "ipython3",
   "version": "3.12.4"
  }
 },
 "nbformat": 4,
 "nbformat_minor": 5
}
